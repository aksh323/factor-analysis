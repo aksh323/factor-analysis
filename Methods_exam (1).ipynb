{
  "nbformat": 4,
  "nbformat_minor": 0,
  "metadata": {
    "colab": {
      "name": "Methods_exam.ipynb",
      "provenance": []
    },
    "kernelspec": {
      "name": "python3",
      "display_name": "Python 3"
    },
    "language_info": {
      "name": "python"
    }
  },
  "cells": [
    {
      "cell_type": "markdown",
      "source": [
        "excercise 1"
      ],
      "metadata": {
        "id": "ZDu4CJurWoYZ"
      }
    },
    {
      "cell_type": "markdown",
      "source": [
        "a) Import the dataset (csv file) using pandas into a dataframe named df"
      ],
      "metadata": {
        "id": "jPSOcd09gvIw"
      }
    },
    {
      "cell_type": "code",
      "source": [
        "!pip install factor_analyzer==0.3.2"
      ],
      "metadata": {
        "id": "PQbhxxAQYknF"
      },
      "execution_count": null,
      "outputs": []
    },
    {
      "cell_type": "code",
      "source": [
        "from factor_analyzer import FactorAnalyzer"
      ],
      "metadata": {
        "id": "vlNcIRP1YsnP"
      },
      "execution_count": null,
      "outputs": []
    },
    {
      "cell_type": "code",
      "execution_count": null,
      "metadata": {
        "id": "1Gp5izxqVyeF"
      },
      "outputs": [],
      "source": [
        "import pandas as pd\n"
      ]
    },
    {
      "cell_type": "code",
      "source": [
        "url = 'https://raw.githubusercontent.com/MaastrichtU-IDS/global-studies/main/semester4/tutorial6/data_assignment_2/tolerance_survey_assignment.csv'\n",
        "df = pd.read_csv(url) # \n",
        "df.head(20) #show first 10 values"
      ],
      "metadata": {
        "colab": {
          "base_uri": "https://localhost:8080/",
          "height": 1000
        },
        "id": "-gJ1nqX0WPAH",
        "outputId": "9f0f75d5-bb7c-4859-c14c-43a25eab751f"
      },
      "execution_count": null,
      "outputs": [
        {
          "output_type": "execute_result",
          "data": {
            "text/plain": [
              "                   q1                 q2                 q3              q4  \\\n",
              "0   Somewhat disagree  Somewhat disagree  Somewhat disagree  Somewhat agree   \n",
              "1   Strongly Disagree  Strongly Disagree     Strongly Agree  Somewhat agree   \n",
              "2            Disagree     Somewhat agree     Somewhat agree  Somewhat agree   \n",
              "3               Agree  Somewhat disagree     Somewhat agree  Somewhat agree   \n",
              "4            Disagree           Disagree              Agree  Somewhat agree   \n",
              "5            Disagree  Strongly Disagree     Strongly Agree           Agree   \n",
              "6      Somewhat agree  Somewhat disagree     Somewhat agree           Agree   \n",
              "7   Somewhat disagree     Strongly Agree     Somewhat agree        Disagree   \n",
              "8               Agree  Somewhat disagree                NaN  Somewhat agree   \n",
              "9            Disagree           Disagree     Somewhat agree           Agree   \n",
              "10  Strongly Disagree  Somewhat disagree           Disagree           Agree   \n",
              "11  Somewhat disagree  Somewhat disagree     Somewhat agree           Agree   \n",
              "12  Somewhat disagree  Somewhat disagree  Somewhat disagree        Disagree   \n",
              "13           Disagree           Disagree     Somewhat agree  Strongly Agree   \n",
              "14  Somewhat disagree     Somewhat agree  Somewhat disagree  Strongly Agree   \n",
              "15  Strongly Disagree  Strongly Disagree     Strongly Agree  Strongly Agree   \n",
              "16  Strongly Disagree           Disagree              Agree           Agree   \n",
              "17           Disagree           Disagree     Somewhat agree  Strongly Agree   \n",
              "18  Strongly Disagree           Disagree     Somewhat agree           Agree   \n",
              "19  Strongly Disagree  Strongly Disagree     Somewhat agree           Agree   \n",
              "\n",
              "                   q5                 q6                 q7  \\\n",
              "0      Somewhat agree  Somewhat disagree     Somewhat agree   \n",
              "1   Somewhat disagree  Somewhat disagree  Somewhat disagree   \n",
              "2               Agree     Somewhat agree              Agree   \n",
              "3      Somewhat agree           Disagree              Agree   \n",
              "4               Agree           Disagree  Somewhat disagree   \n",
              "5      Strongly Agree  Somewhat disagree              Agree   \n",
              "6               Agree  Strongly Disagree           Disagree   \n",
              "7   Strongly Disagree     Strongly Agree  Somewhat disagree   \n",
              "8   Somewhat disagree              Agree              Agree   \n",
              "9               Agree              Agree              Agree   \n",
              "10     Somewhat agree  Somewhat disagree  Somewhat disagree   \n",
              "11     Somewhat agree     Somewhat agree              Agree   \n",
              "12     Somewhat agree  Strongly Disagree           Disagree   \n",
              "13              Agree  Strongly Disagree  Strongly Disagree   \n",
              "14              Agree           Disagree     Somewhat agree   \n",
              "15     Somewhat agree     Somewhat agree              Agree   \n",
              "16              Agree     Somewhat agree     Somewhat agree   \n",
              "17     Strongly Agree     Strongly Agree              Agree   \n",
              "18              Agree              Agree     Strongly Agree   \n",
              "19     Strongly Agree              Agree              Agree   \n",
              "\n",
              "                   q8                 q9                q10  \\\n",
              "0            Disagree           Disagree  Somewhat disagree   \n",
              "1   Somewhat disagree              Agree              Agree   \n",
              "2      Somewhat agree           Disagree  Somewhat disagree   \n",
              "3            Disagree     Somewhat agree  Strongly Disagree   \n",
              "4      Somewhat agree     Somewhat agree  Somewhat disagree   \n",
              "5            Disagree           Disagree  Somewhat disagree   \n",
              "6            Disagree  Strongly Disagree  Strongly Disagree   \n",
              "7            Disagree     Strongly Agree     Somewhat agree   \n",
              "8            Disagree  Somewhat disagree  Somewhat disagree   \n",
              "9               Agree           Disagree     Somewhat agree   \n",
              "10     Somewhat agree           Disagree  Somewhat disagree   \n",
              "11  Somewhat disagree           Disagree                NaN   \n",
              "12           Disagree           Disagree           Disagree   \n",
              "13  Strongly Disagree           Disagree  Strongly Disagree   \n",
              "14           Disagree           Disagree  Somewhat disagree   \n",
              "15     Somewhat agree              Agree              Agree   \n",
              "16     Somewhat agree     Somewhat agree              Agree   \n",
              "17              Agree     Somewhat agree     Somewhat agree   \n",
              "18              Agree              Agree           Disagree   \n",
              "19              Agree  Strongly Disagree  Strongly Disagree   \n",
              "\n",
              "                  q11                q12                q13  \n",
              "0   Somewhat disagree     Strongly Agree  Somewhat disagree  \n",
              "1      Somewhat agree           Disagree     Somewhat agree  \n",
              "2      Somewhat agree           Disagree              Agree  \n",
              "3   Somewhat disagree  Somewhat disagree     Somewhat agree  \n",
              "4   Somewhat disagree  Somewhat disagree     Somewhat agree  \n",
              "5      Somewhat agree  Somewhat disagree              Agree  \n",
              "6               Agree           Disagree              Agree  \n",
              "7   Somewhat disagree           Disagree     Somewhat agree  \n",
              "8      Strongly Agree     Strongly Agree     Strongly Agree  \n",
              "9               Agree  Strongly Disagree              Agree  \n",
              "10              Agree  Somewhat disagree              Agree  \n",
              "11     Somewhat agree     Strongly Agree     Somewhat agree  \n",
              "12     Somewhat agree           Disagree     Somewhat agree  \n",
              "13              Agree  Somewhat disagree     Somewhat agree  \n",
              "14              Agree           Disagree              Agree  \n",
              "15     Strongly Agree     Strongly Agree     Strongly Agree  \n",
              "16              Agree  Strongly Disagree              Agree  \n",
              "17              Agree  Strongly Disagree     Somewhat agree  \n",
              "18     Somewhat agree           Disagree           Disagree  \n",
              "19     Somewhat agree  Strongly Disagree              Agree  "
            ],
            "text/html": [
              "\n",
              "  <div id=\"df-c8f82af4-7b4c-4612-b3da-9bde47cd2360\">\n",
              "    <div class=\"colab-df-container\">\n",
              "      <div>\n",
              "<style scoped>\n",
              "    .dataframe tbody tr th:only-of-type {\n",
              "        vertical-align: middle;\n",
              "    }\n",
              "\n",
              "    .dataframe tbody tr th {\n",
              "        vertical-align: top;\n",
              "    }\n",
              "\n",
              "    .dataframe thead th {\n",
              "        text-align: right;\n",
              "    }\n",
              "</style>\n",
              "<table border=\"1\" class=\"dataframe\">\n",
              "  <thead>\n",
              "    <tr style=\"text-align: right;\">\n",
              "      <th></th>\n",
              "      <th>q1</th>\n",
              "      <th>q2</th>\n",
              "      <th>q3</th>\n",
              "      <th>q4</th>\n",
              "      <th>q5</th>\n",
              "      <th>q6</th>\n",
              "      <th>q7</th>\n",
              "      <th>q8</th>\n",
              "      <th>q9</th>\n",
              "      <th>q10</th>\n",
              "      <th>q11</th>\n",
              "      <th>q12</th>\n",
              "      <th>q13</th>\n",
              "    </tr>\n",
              "  </thead>\n",
              "  <tbody>\n",
              "    <tr>\n",
              "      <th>0</th>\n",
              "      <td>Somewhat disagree</td>\n",
              "      <td>Somewhat disagree</td>\n",
              "      <td>Somewhat disagree</td>\n",
              "      <td>Somewhat agree</td>\n",
              "      <td>Somewhat agree</td>\n",
              "      <td>Somewhat disagree</td>\n",
              "      <td>Somewhat agree</td>\n",
              "      <td>Disagree</td>\n",
              "      <td>Disagree</td>\n",
              "      <td>Somewhat disagree</td>\n",
              "      <td>Somewhat disagree</td>\n",
              "      <td>Strongly Agree</td>\n",
              "      <td>Somewhat disagree</td>\n",
              "    </tr>\n",
              "    <tr>\n",
              "      <th>1</th>\n",
              "      <td>Strongly Disagree</td>\n",
              "      <td>Strongly Disagree</td>\n",
              "      <td>Strongly Agree</td>\n",
              "      <td>Somewhat agree</td>\n",
              "      <td>Somewhat disagree</td>\n",
              "      <td>Somewhat disagree</td>\n",
              "      <td>Somewhat disagree</td>\n",
              "      <td>Somewhat disagree</td>\n",
              "      <td>Agree</td>\n",
              "      <td>Agree</td>\n",
              "      <td>Somewhat agree</td>\n",
              "      <td>Disagree</td>\n",
              "      <td>Somewhat agree</td>\n",
              "    </tr>\n",
              "    <tr>\n",
              "      <th>2</th>\n",
              "      <td>Disagree</td>\n",
              "      <td>Somewhat agree</td>\n",
              "      <td>Somewhat agree</td>\n",
              "      <td>Somewhat agree</td>\n",
              "      <td>Agree</td>\n",
              "      <td>Somewhat agree</td>\n",
              "      <td>Agree</td>\n",
              "      <td>Somewhat agree</td>\n",
              "      <td>Disagree</td>\n",
              "      <td>Somewhat disagree</td>\n",
              "      <td>Somewhat agree</td>\n",
              "      <td>Disagree</td>\n",
              "      <td>Agree</td>\n",
              "    </tr>\n",
              "    <tr>\n",
              "      <th>3</th>\n",
              "      <td>Agree</td>\n",
              "      <td>Somewhat disagree</td>\n",
              "      <td>Somewhat agree</td>\n",
              "      <td>Somewhat agree</td>\n",
              "      <td>Somewhat agree</td>\n",
              "      <td>Disagree</td>\n",
              "      <td>Agree</td>\n",
              "      <td>Disagree</td>\n",
              "      <td>Somewhat agree</td>\n",
              "      <td>Strongly Disagree</td>\n",
              "      <td>Somewhat disagree</td>\n",
              "      <td>Somewhat disagree</td>\n",
              "      <td>Somewhat agree</td>\n",
              "    </tr>\n",
              "    <tr>\n",
              "      <th>4</th>\n",
              "      <td>Disagree</td>\n",
              "      <td>Disagree</td>\n",
              "      <td>Agree</td>\n",
              "      <td>Somewhat agree</td>\n",
              "      <td>Agree</td>\n",
              "      <td>Disagree</td>\n",
              "      <td>Somewhat disagree</td>\n",
              "      <td>Somewhat agree</td>\n",
              "      <td>Somewhat agree</td>\n",
              "      <td>Somewhat disagree</td>\n",
              "      <td>Somewhat disagree</td>\n",
              "      <td>Somewhat disagree</td>\n",
              "      <td>Somewhat agree</td>\n",
              "    </tr>\n",
              "    <tr>\n",
              "      <th>5</th>\n",
              "      <td>Disagree</td>\n",
              "      <td>Strongly Disagree</td>\n",
              "      <td>Strongly Agree</td>\n",
              "      <td>Agree</td>\n",
              "      <td>Strongly Agree</td>\n",
              "      <td>Somewhat disagree</td>\n",
              "      <td>Agree</td>\n",
              "      <td>Disagree</td>\n",
              "      <td>Disagree</td>\n",
              "      <td>Somewhat disagree</td>\n",
              "      <td>Somewhat agree</td>\n",
              "      <td>Somewhat disagree</td>\n",
              "      <td>Agree</td>\n",
              "    </tr>\n",
              "    <tr>\n",
              "      <th>6</th>\n",
              "      <td>Somewhat agree</td>\n",
              "      <td>Somewhat disagree</td>\n",
              "      <td>Somewhat agree</td>\n",
              "      <td>Agree</td>\n",
              "      <td>Agree</td>\n",
              "      <td>Strongly Disagree</td>\n",
              "      <td>Disagree</td>\n",
              "      <td>Disagree</td>\n",
              "      <td>Strongly Disagree</td>\n",
              "      <td>Strongly Disagree</td>\n",
              "      <td>Agree</td>\n",
              "      <td>Disagree</td>\n",
              "      <td>Agree</td>\n",
              "    </tr>\n",
              "    <tr>\n",
              "      <th>7</th>\n",
              "      <td>Somewhat disagree</td>\n",
              "      <td>Strongly Agree</td>\n",
              "      <td>Somewhat agree</td>\n",
              "      <td>Disagree</td>\n",
              "      <td>Strongly Disagree</td>\n",
              "      <td>Strongly Agree</td>\n",
              "      <td>Somewhat disagree</td>\n",
              "      <td>Disagree</td>\n",
              "      <td>Strongly Agree</td>\n",
              "      <td>Somewhat agree</td>\n",
              "      <td>Somewhat disagree</td>\n",
              "      <td>Disagree</td>\n",
              "      <td>Somewhat agree</td>\n",
              "    </tr>\n",
              "    <tr>\n",
              "      <th>8</th>\n",
              "      <td>Agree</td>\n",
              "      <td>Somewhat disagree</td>\n",
              "      <td>NaN</td>\n",
              "      <td>Somewhat agree</td>\n",
              "      <td>Somewhat disagree</td>\n",
              "      <td>Agree</td>\n",
              "      <td>Agree</td>\n",
              "      <td>Disagree</td>\n",
              "      <td>Somewhat disagree</td>\n",
              "      <td>Somewhat disagree</td>\n",
              "      <td>Strongly Agree</td>\n",
              "      <td>Strongly Agree</td>\n",
              "      <td>Strongly Agree</td>\n",
              "    </tr>\n",
              "    <tr>\n",
              "      <th>9</th>\n",
              "      <td>Disagree</td>\n",
              "      <td>Disagree</td>\n",
              "      <td>Somewhat agree</td>\n",
              "      <td>Agree</td>\n",
              "      <td>Agree</td>\n",
              "      <td>Agree</td>\n",
              "      <td>Agree</td>\n",
              "      <td>Agree</td>\n",
              "      <td>Disagree</td>\n",
              "      <td>Somewhat agree</td>\n",
              "      <td>Agree</td>\n",
              "      <td>Strongly Disagree</td>\n",
              "      <td>Agree</td>\n",
              "    </tr>\n",
              "    <tr>\n",
              "      <th>10</th>\n",
              "      <td>Strongly Disagree</td>\n",
              "      <td>Somewhat disagree</td>\n",
              "      <td>Disagree</td>\n",
              "      <td>Agree</td>\n",
              "      <td>Somewhat agree</td>\n",
              "      <td>Somewhat disagree</td>\n",
              "      <td>Somewhat disagree</td>\n",
              "      <td>Somewhat agree</td>\n",
              "      <td>Disagree</td>\n",
              "      <td>Somewhat disagree</td>\n",
              "      <td>Agree</td>\n",
              "      <td>Somewhat disagree</td>\n",
              "      <td>Agree</td>\n",
              "    </tr>\n",
              "    <tr>\n",
              "      <th>11</th>\n",
              "      <td>Somewhat disagree</td>\n",
              "      <td>Somewhat disagree</td>\n",
              "      <td>Somewhat agree</td>\n",
              "      <td>Agree</td>\n",
              "      <td>Somewhat agree</td>\n",
              "      <td>Somewhat agree</td>\n",
              "      <td>Agree</td>\n",
              "      <td>Somewhat disagree</td>\n",
              "      <td>Disagree</td>\n",
              "      <td>NaN</td>\n",
              "      <td>Somewhat agree</td>\n",
              "      <td>Strongly Agree</td>\n",
              "      <td>Somewhat agree</td>\n",
              "    </tr>\n",
              "    <tr>\n",
              "      <th>12</th>\n",
              "      <td>Somewhat disagree</td>\n",
              "      <td>Somewhat disagree</td>\n",
              "      <td>Somewhat disagree</td>\n",
              "      <td>Disagree</td>\n",
              "      <td>Somewhat agree</td>\n",
              "      <td>Strongly Disagree</td>\n",
              "      <td>Disagree</td>\n",
              "      <td>Disagree</td>\n",
              "      <td>Disagree</td>\n",
              "      <td>Disagree</td>\n",
              "      <td>Somewhat agree</td>\n",
              "      <td>Disagree</td>\n",
              "      <td>Somewhat agree</td>\n",
              "    </tr>\n",
              "    <tr>\n",
              "      <th>13</th>\n",
              "      <td>Disagree</td>\n",
              "      <td>Disagree</td>\n",
              "      <td>Somewhat agree</td>\n",
              "      <td>Strongly Agree</td>\n",
              "      <td>Agree</td>\n",
              "      <td>Strongly Disagree</td>\n",
              "      <td>Strongly Disagree</td>\n",
              "      <td>Strongly Disagree</td>\n",
              "      <td>Disagree</td>\n",
              "      <td>Strongly Disagree</td>\n",
              "      <td>Agree</td>\n",
              "      <td>Somewhat disagree</td>\n",
              "      <td>Somewhat agree</td>\n",
              "    </tr>\n",
              "    <tr>\n",
              "      <th>14</th>\n",
              "      <td>Somewhat disagree</td>\n",
              "      <td>Somewhat agree</td>\n",
              "      <td>Somewhat disagree</td>\n",
              "      <td>Strongly Agree</td>\n",
              "      <td>Agree</td>\n",
              "      <td>Disagree</td>\n",
              "      <td>Somewhat agree</td>\n",
              "      <td>Disagree</td>\n",
              "      <td>Disagree</td>\n",
              "      <td>Somewhat disagree</td>\n",
              "      <td>Agree</td>\n",
              "      <td>Disagree</td>\n",
              "      <td>Agree</td>\n",
              "    </tr>\n",
              "    <tr>\n",
              "      <th>15</th>\n",
              "      <td>Strongly Disagree</td>\n",
              "      <td>Strongly Disagree</td>\n",
              "      <td>Strongly Agree</td>\n",
              "      <td>Strongly Agree</td>\n",
              "      <td>Somewhat agree</td>\n",
              "      <td>Somewhat agree</td>\n",
              "      <td>Agree</td>\n",
              "      <td>Somewhat agree</td>\n",
              "      <td>Agree</td>\n",
              "      <td>Agree</td>\n",
              "      <td>Strongly Agree</td>\n",
              "      <td>Strongly Agree</td>\n",
              "      <td>Strongly Agree</td>\n",
              "    </tr>\n",
              "    <tr>\n",
              "      <th>16</th>\n",
              "      <td>Strongly Disagree</td>\n",
              "      <td>Disagree</td>\n",
              "      <td>Agree</td>\n",
              "      <td>Agree</td>\n",
              "      <td>Agree</td>\n",
              "      <td>Somewhat agree</td>\n",
              "      <td>Somewhat agree</td>\n",
              "      <td>Somewhat agree</td>\n",
              "      <td>Somewhat agree</td>\n",
              "      <td>Agree</td>\n",
              "      <td>Agree</td>\n",
              "      <td>Strongly Disagree</td>\n",
              "      <td>Agree</td>\n",
              "    </tr>\n",
              "    <tr>\n",
              "      <th>17</th>\n",
              "      <td>Disagree</td>\n",
              "      <td>Disagree</td>\n",
              "      <td>Somewhat agree</td>\n",
              "      <td>Strongly Agree</td>\n",
              "      <td>Strongly Agree</td>\n",
              "      <td>Strongly Agree</td>\n",
              "      <td>Agree</td>\n",
              "      <td>Agree</td>\n",
              "      <td>Somewhat agree</td>\n",
              "      <td>Somewhat agree</td>\n",
              "      <td>Agree</td>\n",
              "      <td>Strongly Disagree</td>\n",
              "      <td>Somewhat agree</td>\n",
              "    </tr>\n",
              "    <tr>\n",
              "      <th>18</th>\n",
              "      <td>Strongly Disagree</td>\n",
              "      <td>Disagree</td>\n",
              "      <td>Somewhat agree</td>\n",
              "      <td>Agree</td>\n",
              "      <td>Agree</td>\n",
              "      <td>Agree</td>\n",
              "      <td>Strongly Agree</td>\n",
              "      <td>Agree</td>\n",
              "      <td>Agree</td>\n",
              "      <td>Disagree</td>\n",
              "      <td>Somewhat agree</td>\n",
              "      <td>Disagree</td>\n",
              "      <td>Disagree</td>\n",
              "    </tr>\n",
              "    <tr>\n",
              "      <th>19</th>\n",
              "      <td>Strongly Disagree</td>\n",
              "      <td>Strongly Disagree</td>\n",
              "      <td>Somewhat agree</td>\n",
              "      <td>Agree</td>\n",
              "      <td>Strongly Agree</td>\n",
              "      <td>Agree</td>\n",
              "      <td>Agree</td>\n",
              "      <td>Agree</td>\n",
              "      <td>Strongly Disagree</td>\n",
              "      <td>Strongly Disagree</td>\n",
              "      <td>Somewhat agree</td>\n",
              "      <td>Strongly Disagree</td>\n",
              "      <td>Agree</td>\n",
              "    </tr>\n",
              "  </tbody>\n",
              "</table>\n",
              "</div>\n",
              "      <button class=\"colab-df-convert\" onclick=\"convertToInteractive('df-c8f82af4-7b4c-4612-b3da-9bde47cd2360')\"\n",
              "              title=\"Convert this dataframe to an interactive table.\"\n",
              "              style=\"display:none;\">\n",
              "        \n",
              "  <svg xmlns=\"http://www.w3.org/2000/svg\" height=\"24px\"viewBox=\"0 0 24 24\"\n",
              "       width=\"24px\">\n",
              "    <path d=\"M0 0h24v24H0V0z\" fill=\"none\"/>\n",
              "    <path d=\"M18.56 5.44l.94 2.06.94-2.06 2.06-.94-2.06-.94-.94-2.06-.94 2.06-2.06.94zm-11 1L8.5 8.5l.94-2.06 2.06-.94-2.06-.94L8.5 2.5l-.94 2.06-2.06.94zm10 10l.94 2.06.94-2.06 2.06-.94-2.06-.94-.94-2.06-.94 2.06-2.06.94z\"/><path d=\"M17.41 7.96l-1.37-1.37c-.4-.4-.92-.59-1.43-.59-.52 0-1.04.2-1.43.59L10.3 9.45l-7.72 7.72c-.78.78-.78 2.05 0 2.83L4 21.41c.39.39.9.59 1.41.59.51 0 1.02-.2 1.41-.59l7.78-7.78 2.81-2.81c.8-.78.8-2.07 0-2.86zM5.41 20L4 18.59l7.72-7.72 1.47 1.35L5.41 20z\"/>\n",
              "  </svg>\n",
              "      </button>\n",
              "      \n",
              "  <style>\n",
              "    .colab-df-container {\n",
              "      display:flex;\n",
              "      flex-wrap:wrap;\n",
              "      gap: 12px;\n",
              "    }\n",
              "\n",
              "    .colab-df-convert {\n",
              "      background-color: #E8F0FE;\n",
              "      border: none;\n",
              "      border-radius: 50%;\n",
              "      cursor: pointer;\n",
              "      display: none;\n",
              "      fill: #1967D2;\n",
              "      height: 32px;\n",
              "      padding: 0 0 0 0;\n",
              "      width: 32px;\n",
              "    }\n",
              "\n",
              "    .colab-df-convert:hover {\n",
              "      background-color: #E2EBFA;\n",
              "      box-shadow: 0px 1px 2px rgba(60, 64, 67, 0.3), 0px 1px 3px 1px rgba(60, 64, 67, 0.15);\n",
              "      fill: #174EA6;\n",
              "    }\n",
              "\n",
              "    [theme=dark] .colab-df-convert {\n",
              "      background-color: #3B4455;\n",
              "      fill: #D2E3FC;\n",
              "    }\n",
              "\n",
              "    [theme=dark] .colab-df-convert:hover {\n",
              "      background-color: #434B5C;\n",
              "      box-shadow: 0px 1px 3px 1px rgba(0, 0, 0, 0.15);\n",
              "      filter: drop-shadow(0px 1px 2px rgba(0, 0, 0, 0.3));\n",
              "      fill: #FFFFFF;\n",
              "    }\n",
              "  </style>\n",
              "\n",
              "      <script>\n",
              "        const buttonEl =\n",
              "          document.querySelector('#df-c8f82af4-7b4c-4612-b3da-9bde47cd2360 button.colab-df-convert');\n",
              "        buttonEl.style.display =\n",
              "          google.colab.kernel.accessAllowed ? 'block' : 'none';\n",
              "\n",
              "        async function convertToInteractive(key) {\n",
              "          const element = document.querySelector('#df-c8f82af4-7b4c-4612-b3da-9bde47cd2360');\n",
              "          const dataTable =\n",
              "            await google.colab.kernel.invokeFunction('convertToInteractive',\n",
              "                                                     [key], {});\n",
              "          if (!dataTable) return;\n",
              "\n",
              "          const docLinkHtml = 'Like what you see? Visit the ' +\n",
              "            '<a target=\"_blank\" href=https://colab.research.google.com/notebooks/data_table.ipynb>data table notebook</a>'\n",
              "            + ' to learn more about interactive tables.';\n",
              "          element.innerHTML = '';\n",
              "          dataTable['output_type'] = 'display_data';\n",
              "          await google.colab.output.renderOutput(dataTable, element);\n",
              "          const docLink = document.createElement('div');\n",
              "          docLink.innerHTML = docLinkHtml;\n",
              "          element.appendChild(docLink);\n",
              "        }\n",
              "      </script>\n",
              "    </div>\n",
              "  </div>\n",
              "  "
            ]
          },
          "metadata": {},
          "execution_count": 38
        }
      ]
    },
    {
      "cell_type": "markdown",
      "source": [
        "b) Transform the DataFrame df from Likert scale to numbers"
      ],
      "metadata": {
        "id": "1jna8WyLg3L_"
      }
    },
    {
      "cell_type": "code",
      "source": [
        "df_transformed = df.replace(['Strongly Agree',\n",
        "                   'Agree', \n",
        "                   'Somewhat agree', \n",
        "                   'Somewhat disagree', \n",
        "                   'Disagree',\n",
        "                   'Strongly Disagree'], [6,5,4,3,2,1])"
      ],
      "metadata": {
        "id": "Zi5veAU2WsCP"
      },
      "execution_count": null,
      "outputs": []
    },
    {
      "cell_type": "markdown",
      "source": [
        "I transform the scale into numbers so it is more simple to process the data. By doing the function df_transformed, I tell it to change it from the words to the numbers."
      ],
      "metadata": {
        "id": "R4hGEGgSplbc"
      }
    },
    {
      "cell_type": "code",
      "source": [
        "df_transformed."
      ],
      "metadata": {
        "colab": {
          "base_uri": "https://localhost:8080/"
        },
        "id": "UxLh_ilYdWx4",
        "outputId": "398bc8e0-820d-4b40-d6bb-7a05c0eebd64"
      },
      "execution_count": null,
      "outputs": [
        {
          "output_type": "execute_result",
          "data": {
            "text/plain": [
              "36400"
            ]
          },
          "metadata": {},
          "execution_count": 42
        }
      ]
    },
    {
      "cell_type": "markdown",
      "source": [
        "c) Handle the missing values: Compute the median of each survey item/question and replace the missing values by the median of that particular item"
      ],
      "metadata": {
        "id": "HOp4ox1Og43n"
      }
    },
    {
      "cell_type": "code",
      "source": [
        "column_median = df_transformed.median()\n",
        "column_median   "
      ],
      "metadata": {
        "colab": {
          "base_uri": "https://localhost:8080/"
        },
        "id": "yEr0mtPZYRJB",
        "outputId": "934e3ae0-472d-421f-b3cd-70fd6ebd4e1e"
      },
      "execution_count": null,
      "outputs": [
        {
          "output_type": "execute_result",
          "data": {
            "text/plain": [
              "q1     3.0\n",
              "q2     3.0\n",
              "q3     4.0\n",
              "q4     5.0\n",
              "q5     5.0\n",
              "q6     3.0\n",
              "q7     4.0\n",
              "q8     3.0\n",
              "q9     3.0\n",
              "q10    3.0\n",
              "q11    5.0\n",
              "q12    2.0\n",
              "q13    5.0\n",
              "dtype: float64"
            ]
          },
          "metadata": {},
          "execution_count": 8
        }
      ]
    },
    {
      "cell_type": "markdown",
      "source": [
        "why is it easier to look at the mean? "
      ],
      "metadata": {
        "id": "N--QWu9cp1vM"
      }
    },
    {
      "cell_type": "code",
      "source": [
        "df_transformed = df_transformed.fillna(column_median) #we are filling empty(null value ) with median"
      ],
      "metadata": {
        "id": "P3Kc7uBrZd9V"
      },
      "execution_count": null,
      "outputs": []
    },
    {
      "cell_type": "markdown",
      "source": [
        "By doing this, I have transform the dataframe ans replace the missing values with the median values.\n",
        "\n",
        "> Indented block\n",
        "\n"
      ],
      "metadata": {
        "id": "yXyEyqGrWWxx"
      }
    },
    {
      "cell_type": "code",
      "source": [
        "df_transformed.q1.values"
      ],
      "metadata": {
        "id": "Cxyb2yF6jXQT",
        "outputId": "a8c560a3-41e7-497d-f10c-35c0ed3e19c0",
        "colab": {
          "base_uri": "https://localhost:8080/"
        }
      },
      "execution_count": null,
      "outputs": [
        {
          "output_type": "execute_result",
          "data": {
            "text/plain": [
              "array([3., 1., 2., ..., 2., 2., 3.])"
            ]
          },
          "metadata": {},
          "execution_count": 10
        }
      ]
    },
    {
      "cell_type": "markdown",
      "source": [
        "Q2. Conduct a Reliability analysis for the Tolerance Questionnaire"
      ],
      "metadata": {
        "id": "K15M0nM8htOs"
      }
    },
    {
      "cell_type": "markdown",
      "source": [
        "a) Compute the Cronbach's Alpha for the entire dataframe df_transformed"
      ],
      "metadata": {
        "id": "PJyvc721jwzN"
      }
    },
    {
      "cell_type": "code",
      "source": [
        "!pip install pingouin "
      ],
      "metadata": {
        "id": "uA4ZwVjNjxtR"
      },
      "execution_count": null,
      "outputs": []
    },
    {
      "cell_type": "code",
      "source": [
        "import pingouin as pg "
      ],
      "metadata": {
        "id": "fsQ6PoJ4k4uc"
      },
      "execution_count": null,
      "outputs": []
    },
    {
      "cell_type": "code",
      "source": [
        "pg.cronbach_alpha(data = df_transformed) "
      ],
      "metadata": {
        "colab": {
          "base_uri": "https://localhost:8080/"
        },
        "id": "bg78KIQrk7c0",
        "outputId": "7d4a1e0c-ad20-4680-935b-a661188ec868"
      },
      "execution_count": null,
      "outputs": [
        {
          "output_type": "execute_result",
          "data": {
            "text/plain": [
              "(0.49444734360160075, array([0.466, 0.522]))"
            ]
          },
          "metadata": {},
          "execution_count": 12
        }
      ]
    },
    {
      "cell_type": "markdown",
      "source": [
        "The Cronbach's Alpha varies from 0 to 1. If the values are lower, then there is a lower consistency, and if the values are higher, therefore closer to 1, there is a higher cosistency. Looking at the results that we got, we can see that the values are quite low. This means that there is a low consistency, also meaning that there is a lower correlation between them. The alpha is lower than 0.70, and as stated in the documents provided, an alpha lower than this number indicates no reliability . There is therefore a poor internal consistency, meanig that the questions and the itmes are poorly correlated. This can also imply that the construction of the scale was poorly made, as there is poor internal consistency. \n",
        " \n"
      ],
      "metadata": {
        "id": "e_Wysa9KlQhR"
      }
    },
    {
      "cell_type": "markdown",
      "source": [
        "b) Extract the survey items q3, q4, q5 into a dataframe named df_A. Extract the survey items q11, q12, q13 into a dataframe named df_B."
      ],
      "metadata": {
        "id": "EpqAQ1l3oJBu"
      }
    },
    {
      "cell_type": "code",
      "source": [
        "df_A = df_transformed[['q3','q4','q5']]"
      ],
      "metadata": {
        "id": "4h0nI-J6oKCm"
      },
      "execution_count": null,
      "outputs": []
    },
    {
      "cell_type": "code",
      "source": [
        "df_A"
      ],
      "metadata": {
        "colab": {
          "base_uri": "https://localhost:8080/",
          "height": 424
        },
        "id": "htoPwBIXozcP",
        "outputId": "ce9c16e8-bfe9-47c3-b3b9-0008246bc3dc"
      },
      "execution_count": null,
      "outputs": [
        {
          "output_type": "execute_result",
          "data": {
            "text/plain": [
              "       q3   q4   q5\n",
              "0     3.0  4.0  4.0\n",
              "1     6.0  4.0  3.0\n",
              "2     4.0  4.0  5.0\n",
              "3     4.0  4.0  4.0\n",
              "4     5.0  4.0  5.0\n",
              "...   ...  ...  ...\n",
              "2795  5.0  5.0  6.0\n",
              "2796  4.0  4.0  3.0\n",
              "2797  6.0  3.0  6.0\n",
              "2798  4.0  5.0  4.0\n",
              "2799  1.0  2.0  2.0\n",
              "\n",
              "[2800 rows x 3 columns]"
            ],
            "text/html": [
              "\n",
              "  <div id=\"df-ced9e558-6a48-40b5-a0ad-03f52ae8f9f1\">\n",
              "    <div class=\"colab-df-container\">\n",
              "      <div>\n",
              "<style scoped>\n",
              "    .dataframe tbody tr th:only-of-type {\n",
              "        vertical-align: middle;\n",
              "    }\n",
              "\n",
              "    .dataframe tbody tr th {\n",
              "        vertical-align: top;\n",
              "    }\n",
              "\n",
              "    .dataframe thead th {\n",
              "        text-align: right;\n",
              "    }\n",
              "</style>\n",
              "<table border=\"1\" class=\"dataframe\">\n",
              "  <thead>\n",
              "    <tr style=\"text-align: right;\">\n",
              "      <th></th>\n",
              "      <th>q3</th>\n",
              "      <th>q4</th>\n",
              "      <th>q5</th>\n",
              "    </tr>\n",
              "  </thead>\n",
              "  <tbody>\n",
              "    <tr>\n",
              "      <th>0</th>\n",
              "      <td>3.0</td>\n",
              "      <td>4.0</td>\n",
              "      <td>4.0</td>\n",
              "    </tr>\n",
              "    <tr>\n",
              "      <th>1</th>\n",
              "      <td>6.0</td>\n",
              "      <td>4.0</td>\n",
              "      <td>3.0</td>\n",
              "    </tr>\n",
              "    <tr>\n",
              "      <th>2</th>\n",
              "      <td>4.0</td>\n",
              "      <td>4.0</td>\n",
              "      <td>5.0</td>\n",
              "    </tr>\n",
              "    <tr>\n",
              "      <th>3</th>\n",
              "      <td>4.0</td>\n",
              "      <td>4.0</td>\n",
              "      <td>4.0</td>\n",
              "    </tr>\n",
              "    <tr>\n",
              "      <th>4</th>\n",
              "      <td>5.0</td>\n",
              "      <td>4.0</td>\n",
              "      <td>5.0</td>\n",
              "    </tr>\n",
              "    <tr>\n",
              "      <th>...</th>\n",
              "      <td>...</td>\n",
              "      <td>...</td>\n",
              "      <td>...</td>\n",
              "    </tr>\n",
              "    <tr>\n",
              "      <th>2795</th>\n",
              "      <td>5.0</td>\n",
              "      <td>5.0</td>\n",
              "      <td>6.0</td>\n",
              "    </tr>\n",
              "    <tr>\n",
              "      <th>2796</th>\n",
              "      <td>4.0</td>\n",
              "      <td>4.0</td>\n",
              "      <td>3.0</td>\n",
              "    </tr>\n",
              "    <tr>\n",
              "      <th>2797</th>\n",
              "      <td>6.0</td>\n",
              "      <td>3.0</td>\n",
              "      <td>6.0</td>\n",
              "    </tr>\n",
              "    <tr>\n",
              "      <th>2798</th>\n",
              "      <td>4.0</td>\n",
              "      <td>5.0</td>\n",
              "      <td>4.0</td>\n",
              "    </tr>\n",
              "    <tr>\n",
              "      <th>2799</th>\n",
              "      <td>1.0</td>\n",
              "      <td>2.0</td>\n",
              "      <td>2.0</td>\n",
              "    </tr>\n",
              "  </tbody>\n",
              "</table>\n",
              "<p>2800 rows × 3 columns</p>\n",
              "</div>\n",
              "      <button class=\"colab-df-convert\" onclick=\"convertToInteractive('df-ced9e558-6a48-40b5-a0ad-03f52ae8f9f1')\"\n",
              "              title=\"Convert this dataframe to an interactive table.\"\n",
              "              style=\"display:none;\">\n",
              "        \n",
              "  <svg xmlns=\"http://www.w3.org/2000/svg\" height=\"24px\"viewBox=\"0 0 24 24\"\n",
              "       width=\"24px\">\n",
              "    <path d=\"M0 0h24v24H0V0z\" fill=\"none\"/>\n",
              "    <path d=\"M18.56 5.44l.94 2.06.94-2.06 2.06-.94-2.06-.94-.94-2.06-.94 2.06-2.06.94zm-11 1L8.5 8.5l.94-2.06 2.06-.94-2.06-.94L8.5 2.5l-.94 2.06-2.06.94zm10 10l.94 2.06.94-2.06 2.06-.94-2.06-.94-.94-2.06-.94 2.06-2.06.94z\"/><path d=\"M17.41 7.96l-1.37-1.37c-.4-.4-.92-.59-1.43-.59-.52 0-1.04.2-1.43.59L10.3 9.45l-7.72 7.72c-.78.78-.78 2.05 0 2.83L4 21.41c.39.39.9.59 1.41.59.51 0 1.02-.2 1.41-.59l7.78-7.78 2.81-2.81c.8-.78.8-2.07 0-2.86zM5.41 20L4 18.59l7.72-7.72 1.47 1.35L5.41 20z\"/>\n",
              "  </svg>\n",
              "      </button>\n",
              "      \n",
              "  <style>\n",
              "    .colab-df-container {\n",
              "      display:flex;\n",
              "      flex-wrap:wrap;\n",
              "      gap: 12px;\n",
              "    }\n",
              "\n",
              "    .colab-df-convert {\n",
              "      background-color: #E8F0FE;\n",
              "      border: none;\n",
              "      border-radius: 50%;\n",
              "      cursor: pointer;\n",
              "      display: none;\n",
              "      fill: #1967D2;\n",
              "      height: 32px;\n",
              "      padding: 0 0 0 0;\n",
              "      width: 32px;\n",
              "    }\n",
              "\n",
              "    .colab-df-convert:hover {\n",
              "      background-color: #E2EBFA;\n",
              "      box-shadow: 0px 1px 2px rgba(60, 64, 67, 0.3), 0px 1px 3px 1px rgba(60, 64, 67, 0.15);\n",
              "      fill: #174EA6;\n",
              "    }\n",
              "\n",
              "    [theme=dark] .colab-df-convert {\n",
              "      background-color: #3B4455;\n",
              "      fill: #D2E3FC;\n",
              "    }\n",
              "\n",
              "    [theme=dark] .colab-df-convert:hover {\n",
              "      background-color: #434B5C;\n",
              "      box-shadow: 0px 1px 3px 1px rgba(0, 0, 0, 0.15);\n",
              "      filter: drop-shadow(0px 1px 2px rgba(0, 0, 0, 0.3));\n",
              "      fill: #FFFFFF;\n",
              "    }\n",
              "  </style>\n",
              "\n",
              "      <script>\n",
              "        const buttonEl =\n",
              "          document.querySelector('#df-ced9e558-6a48-40b5-a0ad-03f52ae8f9f1 button.colab-df-convert');\n",
              "        buttonEl.style.display =\n",
              "          google.colab.kernel.accessAllowed ? 'block' : 'none';\n",
              "\n",
              "        async function convertToInteractive(key) {\n",
              "          const element = document.querySelector('#df-ced9e558-6a48-40b5-a0ad-03f52ae8f9f1');\n",
              "          const dataTable =\n",
              "            await google.colab.kernel.invokeFunction('convertToInteractive',\n",
              "                                                     [key], {});\n",
              "          if (!dataTable) return;\n",
              "\n",
              "          const docLinkHtml = 'Like what you see? Visit the ' +\n",
              "            '<a target=\"_blank\" href=https://colab.research.google.com/notebooks/data_table.ipynb>data table notebook</a>'\n",
              "            + ' to learn more about interactive tables.';\n",
              "          element.innerHTML = '';\n",
              "          dataTable['output_type'] = 'display_data';\n",
              "          await google.colab.output.renderOutput(dataTable, element);\n",
              "          const docLink = document.createElement('div');\n",
              "          docLink.innerHTML = docLinkHtml;\n",
              "          element.appendChild(docLink);\n",
              "        }\n",
              "      </script>\n",
              "    </div>\n",
              "  </div>\n",
              "  "
            ]
          },
          "metadata": {},
          "execution_count": 35
        }
      ]
    },
    {
      "cell_type": "code",
      "source": [
        "df_B = df_transformed[['q11','q12','q13']]"
      ],
      "metadata": {
        "id": "ZZZ-Hw8xo4BB"
      },
      "execution_count": null,
      "outputs": []
    },
    {
      "cell_type": "code",
      "source": [
        "df_B"
      ],
      "metadata": {
        "colab": {
          "base_uri": "https://localhost:8080/",
          "height": 424
        },
        "id": "2TMux8lXpBJP",
        "outputId": "49c5da78-c80e-4396-df4a-0fc7648742b3"
      },
      "execution_count": null,
      "outputs": [
        {
          "output_type": "execute_result",
          "data": {
            "text/plain": [
              "      q11  q12  q13\n",
              "0     3.0    6  3.0\n",
              "1     4.0    2  4.0\n",
              "2     4.0    2  5.0\n",
              "3     3.0    3  4.0\n",
              "4     3.0    3  4.0\n",
              "...   ...  ...  ...\n",
              "2795  6.0    1  6.0\n",
              "2796  6.0    3  5.0\n",
              "2797  5.0    1  6.0\n",
              "2798  5.0    2  5.0\n",
              "2799  3.0    1  3.0\n",
              "\n",
              "[2800 rows x 3 columns]"
            ],
            "text/html": [
              "\n",
              "  <div id=\"df-de42b02f-86d8-4f65-b1b5-eb1c353e256b\">\n",
              "    <div class=\"colab-df-container\">\n",
              "      <div>\n",
              "<style scoped>\n",
              "    .dataframe tbody tr th:only-of-type {\n",
              "        vertical-align: middle;\n",
              "    }\n",
              "\n",
              "    .dataframe tbody tr th {\n",
              "        vertical-align: top;\n",
              "    }\n",
              "\n",
              "    .dataframe thead th {\n",
              "        text-align: right;\n",
              "    }\n",
              "</style>\n",
              "<table border=\"1\" class=\"dataframe\">\n",
              "  <thead>\n",
              "    <tr style=\"text-align: right;\">\n",
              "      <th></th>\n",
              "      <th>q11</th>\n",
              "      <th>q12</th>\n",
              "      <th>q13</th>\n",
              "    </tr>\n",
              "  </thead>\n",
              "  <tbody>\n",
              "    <tr>\n",
              "      <th>0</th>\n",
              "      <td>3.0</td>\n",
              "      <td>6</td>\n",
              "      <td>3.0</td>\n",
              "    </tr>\n",
              "    <tr>\n",
              "      <th>1</th>\n",
              "      <td>4.0</td>\n",
              "      <td>2</td>\n",
              "      <td>4.0</td>\n",
              "    </tr>\n",
              "    <tr>\n",
              "      <th>2</th>\n",
              "      <td>4.0</td>\n",
              "      <td>2</td>\n",
              "      <td>5.0</td>\n",
              "    </tr>\n",
              "    <tr>\n",
              "      <th>3</th>\n",
              "      <td>3.0</td>\n",
              "      <td>3</td>\n",
              "      <td>4.0</td>\n",
              "    </tr>\n",
              "    <tr>\n",
              "      <th>4</th>\n",
              "      <td>3.0</td>\n",
              "      <td>3</td>\n",
              "      <td>4.0</td>\n",
              "    </tr>\n",
              "    <tr>\n",
              "      <th>...</th>\n",
              "      <td>...</td>\n",
              "      <td>...</td>\n",
              "      <td>...</td>\n",
              "    </tr>\n",
              "    <tr>\n",
              "      <th>2795</th>\n",
              "      <td>6.0</td>\n",
              "      <td>1</td>\n",
              "      <td>6.0</td>\n",
              "    </tr>\n",
              "    <tr>\n",
              "      <th>2796</th>\n",
              "      <td>6.0</td>\n",
              "      <td>3</td>\n",
              "      <td>5.0</td>\n",
              "    </tr>\n",
              "    <tr>\n",
              "      <th>2797</th>\n",
              "      <td>5.0</td>\n",
              "      <td>1</td>\n",
              "      <td>6.0</td>\n",
              "    </tr>\n",
              "    <tr>\n",
              "      <th>2798</th>\n",
              "      <td>5.0</td>\n",
              "      <td>2</td>\n",
              "      <td>5.0</td>\n",
              "    </tr>\n",
              "    <tr>\n",
              "      <th>2799</th>\n",
              "      <td>3.0</td>\n",
              "      <td>1</td>\n",
              "      <td>3.0</td>\n",
              "    </tr>\n",
              "  </tbody>\n",
              "</table>\n",
              "<p>2800 rows × 3 columns</p>\n",
              "</div>\n",
              "      <button class=\"colab-df-convert\" onclick=\"convertToInteractive('df-de42b02f-86d8-4f65-b1b5-eb1c353e256b')\"\n",
              "              title=\"Convert this dataframe to an interactive table.\"\n",
              "              style=\"display:none;\">\n",
              "        \n",
              "  <svg xmlns=\"http://www.w3.org/2000/svg\" height=\"24px\"viewBox=\"0 0 24 24\"\n",
              "       width=\"24px\">\n",
              "    <path d=\"M0 0h24v24H0V0z\" fill=\"none\"/>\n",
              "    <path d=\"M18.56 5.44l.94 2.06.94-2.06 2.06-.94-2.06-.94-.94-2.06-.94 2.06-2.06.94zm-11 1L8.5 8.5l.94-2.06 2.06-.94-2.06-.94L8.5 2.5l-.94 2.06-2.06.94zm10 10l.94 2.06.94-2.06 2.06-.94-2.06-.94-.94-2.06-.94 2.06-2.06.94z\"/><path d=\"M17.41 7.96l-1.37-1.37c-.4-.4-.92-.59-1.43-.59-.52 0-1.04.2-1.43.59L10.3 9.45l-7.72 7.72c-.78.78-.78 2.05 0 2.83L4 21.41c.39.39.9.59 1.41.59.51 0 1.02-.2 1.41-.59l7.78-7.78 2.81-2.81c.8-.78.8-2.07 0-2.86zM5.41 20L4 18.59l7.72-7.72 1.47 1.35L5.41 20z\"/>\n",
              "  </svg>\n",
              "      </button>\n",
              "      \n",
              "  <style>\n",
              "    .colab-df-container {\n",
              "      display:flex;\n",
              "      flex-wrap:wrap;\n",
              "      gap: 12px;\n",
              "    }\n",
              "\n",
              "    .colab-df-convert {\n",
              "      background-color: #E8F0FE;\n",
              "      border: none;\n",
              "      border-radius: 50%;\n",
              "      cursor: pointer;\n",
              "      display: none;\n",
              "      fill: #1967D2;\n",
              "      height: 32px;\n",
              "      padding: 0 0 0 0;\n",
              "      width: 32px;\n",
              "    }\n",
              "\n",
              "    .colab-df-convert:hover {\n",
              "      background-color: #E2EBFA;\n",
              "      box-shadow: 0px 1px 2px rgba(60, 64, 67, 0.3), 0px 1px 3px 1px rgba(60, 64, 67, 0.15);\n",
              "      fill: #174EA6;\n",
              "    }\n",
              "\n",
              "    [theme=dark] .colab-df-convert {\n",
              "      background-color: #3B4455;\n",
              "      fill: #D2E3FC;\n",
              "    }\n",
              "\n",
              "    [theme=dark] .colab-df-convert:hover {\n",
              "      background-color: #434B5C;\n",
              "      box-shadow: 0px 1px 3px 1px rgba(0, 0, 0, 0.15);\n",
              "      filter: drop-shadow(0px 1px 2px rgba(0, 0, 0, 0.3));\n",
              "      fill: #FFFFFF;\n",
              "    }\n",
              "  </style>\n",
              "\n",
              "      <script>\n",
              "        const buttonEl =\n",
              "          document.querySelector('#df-de42b02f-86d8-4f65-b1b5-eb1c353e256b button.colab-df-convert');\n",
              "        buttonEl.style.display =\n",
              "          google.colab.kernel.accessAllowed ? 'block' : 'none';\n",
              "\n",
              "        async function convertToInteractive(key) {\n",
              "          const element = document.querySelector('#df-de42b02f-86d8-4f65-b1b5-eb1c353e256b');\n",
              "          const dataTable =\n",
              "            await google.colab.kernel.invokeFunction('convertToInteractive',\n",
              "                                                     [key], {});\n",
              "          if (!dataTable) return;\n",
              "\n",
              "          const docLinkHtml = 'Like what you see? Visit the ' +\n",
              "            '<a target=\"_blank\" href=https://colab.research.google.com/notebooks/data_table.ipynb>data table notebook</a>'\n",
              "            + ' to learn more about interactive tables.';\n",
              "          element.innerHTML = '';\n",
              "          dataTable['output_type'] = 'display_data';\n",
              "          await google.colab.output.renderOutput(dataTable, element);\n",
              "          const docLink = document.createElement('div');\n",
              "          docLink.innerHTML = docLinkHtml;\n",
              "          element.appendChild(docLink);\n",
              "        }\n",
              "      </script>\n",
              "    </div>\n",
              "  </div>\n",
              "  "
            ]
          },
          "metadata": {},
          "execution_count": 37
        }
      ]
    },
    {
      "cell_type": "markdown",
      "source": [
        "By doing the function df_b = df_transformed, and the same with df_a, I was able to put the three different items (q3,4,5 and q11,12,13) together in two different dataframes. "
      ],
      "metadata": {
        "id": "MSahQjsIpOt7"
      }
    },
    {
      "cell_type": "markdown",
      "source": [
        "c) Compute the Cronbach's Alpha values for dataframes df_A and df_B. Interpret the results of the Cronbach's alpha for measuring the internal consistency of df_A and df_B."
      ],
      "metadata": {
        "id": "YGPFFexkqg5l"
      }
    },
    {
      "cell_type": "code",
      "source": [
        "pg.cronbach_alpha(data = df_A)  #pg is librarry #cronbach_alpha is function inside bracket we gave dataset"
      ],
      "metadata": {
        "colab": {
          "base_uri": "https://localhost:8080/"
        },
        "id": "P1CBEjK7qlcL",
        "outputId": "dcbf6429-7b8e-491b-b847-5da17f1504e1"
      },
      "execution_count": null,
      "outputs": [
        {
          "output_type": "execute_result",
          "data": {
            "text/plain": [
              "(0.6370880533038319, array([0.613, 0.66 ]))"
            ]
          },
          "metadata": {},
          "execution_count": 17
        }
      ]
    },
    {
      "cell_type": "code",
      "source": [
        "pg.cronbach_alpha(data = df_B)"
      ],
      "metadata": {
        "colab": {
          "base_uri": "https://localhost:8080/"
        },
        "id": "t_-xS_Tdqs8A",
        "outputId": "8a43f65b-1e02-4420-c7c7-e0dfa86bec51"
      },
      "execution_count": null,
      "outputs": [
        {
          "output_type": "execute_result",
          "data": {
            "text/plain": [
              "(-0.22037012511691834, array([-0.301, -0.144]))"
            ]
          },
          "metadata": {},
          "execution_count": 18
        }
      ]
    },
    {
      "cell_type": "markdown",
      "source": [
        "Looking at the resulting alpa for the dataset df_A, the alpha has a value of 0.6, which means that there is a questionable internal consitency. This is because the value is relatively low. This also implies that the dataset is not very reliable and there is very low correlation between items. \n",
        "As to the second result, normally Cronbach alphas should be within 0 and 1. If a number is negative, then it implies that there is an error in the coding and it should be recoded. If it would be interpeted as a 0, then it would signify an unacceptable internal consitency, meanig that the scale and instrument is not reliable at all. "
      ],
      "metadata": {
        "id": "px3_YDwBsQ09"
      }
    },
    {
      "cell_type": "markdown",
      "source": [
        "d) Write the overall interpretation of the reliability analysis after taking into account the Cronbach'a alpha value from a) and c) above (125 words max)"
      ],
      "metadata": {
        "id": "rZNEM33ztvnp"
      }
    },
    {
      "cell_type": "markdown",
      "source": [
        "By comparing the resuls of the Conbach's alpha in both the general dataset and the two more detailed one, one can see that overall, the Alpha is realitvely low, with the one from the dataset Df_transformed being 0.4, the one from df_A being 0.6 and finally the last one being non conclusive. This overall means that the dataset that we have been presented with has a significantly low interanl consintency, making therefore the scale and instrument to measure not reliable or consitent enough. Another thing to point is as the alpha is low, the items and the questions are not correlated, or their correlation is vey weak. This also means that our scale is not that valid, as an instrument cannot be valid if it is not reliable. The dataset is realatively weak, the highest value of alpha being the one for the three specifc items q3,4,5. This could also imply that the three items might be more correlated between each other, as the alpha is higher than the other two. "
      ],
      "metadata": {
        "id": "K2yQj1jot1gU"
      }
    },
    {
      "cell_type": "markdown",
      "source": [
        "Q3. Conduct a Validity analysis for the Tolerance Questionnaire"
      ],
      "metadata": {
        "id": "nUZiliZuxCge"
      }
    },
    {
      "cell_type": "markdown",
      "source": [
        "a) Compute the Correlation matrix between the survey items."
      ],
      "metadata": {
        "id": "yq5byvDXxhq4"
      }
    },
    {
      "cell_type": "code",
      "source": [
        "df_transformed.corr().style.background_gradient(cmap=\"Reds\")"
      ],
      "metadata": {
        "colab": {
          "base_uri": "https://localhost:8080/",
          "height": 457
        },
        "id": "tycewHT2xiN-",
        "outputId": "dfc6044b-213b-4786-e2e2-9ca9920113d3"
      },
      "execution_count": null,
      "outputs": [
        {
          "output_type": "execute_result",
          "data": {
            "text/plain": [
              "<pandas.io.formats.style.Styler at 0x7f31fb5add50>"
            ],
            "text/html": [
              "<style type=\"text/css\">\n",
              "#T_cec69_row0_col0, #T_cec69_row1_col1, #T_cec69_row2_col2, #T_cec69_row3_col3, #T_cec69_row4_col4, #T_cec69_row5_col5, #T_cec69_row6_col6, #T_cec69_row7_col7, #T_cec69_row8_col8, #T_cec69_row9_col9, #T_cec69_row10_col10, #T_cec69_row11_col11, #T_cec69_row12_col12 {\n",
              "  background-color: #67000d;\n",
              "  color: #f1f1f1;\n",
              "}\n",
              "#T_cec69_row0_col1 {\n",
              "  background-color: #e93529;\n",
              "  color: #f1f1f1;\n",
              "}\n",
              "#T_cec69_row0_col2 {\n",
              "  background-color: #ffeee7;\n",
              "  color: #000000;\n",
              "}\n",
              "#T_cec69_row0_col3, #T_cec69_row2_col0, #T_cec69_row2_col6, #T_cec69_row12_col7 {\n",
              "  background-color: #feeae1;\n",
              "  color: #000000;\n",
              "}\n",
              "#T_cec69_row0_col4, #T_cec69_row2_col9, #T_cec69_row12_col9 {\n",
              "  background-color: #ffece4;\n",
              "  color: #000000;\n",
              "}\n",
              "#T_cec69_row0_col5, #T_cec69_row0_col6, #T_cec69_row0_col7, #T_cec69_row5_col10, #T_cec69_row6_col10, #T_cec69_row8_col10 {\n",
              "  background-color: #fedecf;\n",
              "  color: #000000;\n",
              "}\n",
              "#T_cec69_row0_col8 {\n",
              "  background-color: #fc8a6a;\n",
              "  color: #f1f1f1;\n",
              "}\n",
              "#T_cec69_row0_col9 {\n",
              "  background-color: #fdd5c4;\n",
              "  color: #000000;\n",
              "}\n",
              "#T_cec69_row0_col10, #T_cec69_row4_col1, #T_cec69_row12_col6 {\n",
              "  background-color: #fee6da;\n",
              "  color: #000000;\n",
              "}\n",
              "#T_cec69_row0_col11 {\n",
              "  background-color: #fcbea5;\n",
              "  color: #000000;\n",
              "}\n",
              "#T_cec69_row0_col12, #T_cec69_row4_col7 {\n",
              "  background-color: #fff0e8;\n",
              "  color: #000000;\n",
              "}\n",
              "#T_cec69_row1_col0, #T_cec69_row7_col8 {\n",
              "  background-color: #ef3c2c;\n",
              "  color: #f1f1f1;\n",
              "}\n",
              "#T_cec69_row1_col2, #T_cec69_row1_col3, #T_cec69_row1_col4, #T_cec69_row3_col0, #T_cec69_row3_col1, #T_cec69_row3_col5, #T_cec69_row3_col6, #T_cec69_row3_col7, #T_cec69_row3_col8, #T_cec69_row4_col9, #T_cec69_row11_col10, #T_cec69_row11_col12, #T_cec69_row12_col11 {\n",
              "  background-color: #fff5f0;\n",
              "  color: #000000;\n",
              "}\n",
              "#T_cec69_row1_col5 {\n",
              "  background-color: #fcb79c;\n",
              "  color: #000000;\n",
              "}\n",
              "#T_cec69_row1_col6, #T_cec69_row7_col11, #T_cec69_row11_col9 {\n",
              "  background-color: #fcae92;\n",
              "  color: #000000;\n",
              "}\n",
              "#T_cec69_row1_col7 {\n",
              "  background-color: #fcb69b;\n",
              "  color: #000000;\n",
              "}\n",
              "#T_cec69_row1_col8 {\n",
              "  background-color: #fb6d4d;\n",
              "  color: #f1f1f1;\n",
              "}\n",
              "#T_cec69_row1_col9 {\n",
              "  background-color: #fc9d7f;\n",
              "  color: #000000;\n",
              "}\n",
              "#T_cec69_row1_col10 {\n",
              "  background-color: #ffeee6;\n",
              "  color: #000000;\n",
              "}\n",
              "#T_cec69_row1_col11, #T_cec69_row7_col3, #T_cec69_row8_col11 {\n",
              "  background-color: #fcb499;\n",
              "  color: #000000;\n",
              "}\n",
              "#T_cec69_row1_col12 {\n",
              "  background-color: #fff1ea;\n",
              "  color: #000000;\n",
              "}\n",
              "#T_cec69_row2_col1 {\n",
              "  background-color: #fee7db;\n",
              "  color: #000000;\n",
              "}\n",
              "#T_cec69_row2_col3 {\n",
              "  background-color: #f03f2e;\n",
              "  color: #f1f1f1;\n",
              "}\n",
              "#T_cec69_row2_col4, #T_cec69_row4_col2 {\n",
              "  background-color: #f6583e;\n",
              "  color: #f1f1f1;\n",
              "}\n",
              "#T_cec69_row2_col5, #T_cec69_row10_col5 {\n",
              "  background-color: #fee8de;\n",
              "  color: #000000;\n",
              "}\n",
              "#T_cec69_row2_col7, #T_cec69_row12_col5 {\n",
              "  background-color: #fee9df;\n",
              "  color: #000000;\n",
              "}\n",
              "#T_cec69_row2_col8 {\n",
              "  background-color: #fee3d6;\n",
              "  color: #000000;\n",
              "}\n",
              "#T_cec69_row2_col10 {\n",
              "  background-color: #fb7c5c;\n",
              "  color: #f1f1f1;\n",
              "}\n",
              "#T_cec69_row2_col11, #T_cec69_row4_col6, #T_cec69_row8_col12 {\n",
              "  background-color: #fed8c7;\n",
              "  color: #000000;\n",
              "}\n",
              "#T_cec69_row2_col12 {\n",
              "  background-color: #fa6547;\n",
              "  color: #f1f1f1;\n",
              "}\n",
              "#T_cec69_row3_col2 {\n",
              "  background-color: #f44d38;\n",
              "  color: #f1f1f1;\n",
              "}\n",
              "#T_cec69_row3_col4, #T_cec69_row12_col10 {\n",
              "  background-color: #fb6b4b;\n",
              "  color: #f1f1f1;\n",
              "}\n",
              "#T_cec69_row3_col9, #T_cec69_row10_col11 {\n",
              "  background-color: #ffefe8;\n",
              "  color: #000000;\n",
              "}\n",
              "#T_cec69_row3_col10, #T_cec69_row11_col8 {\n",
              "  background-color: #fcaf93;\n",
              "  color: #000000;\n",
              "}\n",
              "#T_cec69_row3_col11 {\n",
              "  background-color: #fcbba1;\n",
              "  color: #000000;\n",
              "}\n",
              "#T_cec69_row3_col12 {\n",
              "  background-color: #fc9474;\n",
              "  color: #000000;\n",
              "}\n",
              "#T_cec69_row4_col0, #T_cec69_row9_col10, #T_cec69_row10_col6 {\n",
              "  background-color: #fee8dd;\n",
              "  color: #000000;\n",
              "}\n",
              "#T_cec69_row4_col3 {\n",
              "  background-color: #f7593f;\n",
              "  color: #f1f1f1;\n",
              "}\n",
              "#T_cec69_row4_col5, #T_cec69_row8_col3 {\n",
              "  background-color: #fed9c9;\n",
              "  color: #000000;\n",
              "}\n",
              "#T_cec69_row4_col8 {\n",
              "  background-color: #ffece3;\n",
              "  color: #000000;\n",
              "}\n",
              "#T_cec69_row4_col10 {\n",
              "  background-color: #fc8464;\n",
              "  color: #f1f1f1;\n",
              "}\n",
              "#T_cec69_row4_col11, #T_cec69_row12_col0 {\n",
              "  background-color: #fedccd;\n",
              "  color: #000000;\n",
              "}\n",
              "#T_cec69_row4_col12 {\n",
              "  background-color: #fc7f5f;\n",
              "  color: #f1f1f1;\n",
              "}\n",
              "#T_cec69_row5_col0, #T_cec69_row5_col11, #T_cec69_row6_col11 {\n",
              "  background-color: #fca98c;\n",
              "  color: #000000;\n",
              "}\n",
              "#T_cec69_row5_col1, #T_cec69_row5_col9 {\n",
              "  background-color: #fb7b5b;\n",
              "  color: #f1f1f1;\n",
              "}\n",
              "#T_cec69_row5_col2 {\n",
              "  background-color: #fcbfa7;\n",
              "  color: #000000;\n",
              "}\n",
              "#T_cec69_row5_col3, #T_cec69_row6_col3 {\n",
              "  background-color: #fcbca2;\n",
              "  color: #000000;\n",
              "}\n",
              "#T_cec69_row5_col4, #T_cec69_row6_col4 {\n",
              "  background-color: #fcab8f;\n",
              "  color: #000000;\n",
              "}\n",
              "#T_cec69_row5_col6 {\n",
              "  background-color: #ce1a1e;\n",
              "  color: #f1f1f1;\n",
              "}\n",
              "#T_cec69_row5_col7 {\n",
              "  background-color: #f24734;\n",
              "  color: #f1f1f1;\n",
              "}\n",
              "#T_cec69_row5_col8, #T_cec69_row9_col8 {\n",
              "  background-color: #f85f43;\n",
              "  color: #f1f1f1;\n",
              "}\n",
              "#T_cec69_row5_col12 {\n",
              "  background-color: #fdd4c2;\n",
              "  color: #000000;\n",
              "}\n",
              "#T_cec69_row6_col0 {\n",
              "  background-color: #fcaa8d;\n",
              "  color: #000000;\n",
              "}\n",
              "#T_cec69_row6_col1, #T_cec69_row7_col1, #T_cec69_row8_col5, #T_cec69_row8_col9 {\n",
              "  background-color: #fb7555;\n",
              "  color: #f1f1f1;\n",
              "}\n",
              "#T_cec69_row6_col2, #T_cec69_row7_col4, #T_cec69_row10_col0, #T_cec69_row11_col2 {\n",
              "  background-color: #fcc3ab;\n",
              "  color: #000000;\n",
              "}\n",
              "#T_cec69_row6_col5 {\n",
              "  background-color: #cf1c1f;\n",
              "  color: #f1f1f1;\n",
              "}\n",
              "#T_cec69_row6_col7 {\n",
              "  background-color: #f34935;\n",
              "  color: #f1f1f1;\n",
              "}\n",
              "#T_cec69_row6_col8 {\n",
              "  background-color: #f96044;\n",
              "  color: #f1f1f1;\n",
              "}\n",
              "#T_cec69_row6_col9 {\n",
              "  background-color: #fc8262;\n",
              "  color: #f1f1f1;\n",
              "}\n",
              "#T_cec69_row6_col12 {\n",
              "  background-color: #fdd1be;\n",
              "  color: #000000;\n",
              "}\n",
              "#T_cec69_row7_col0, #T_cec69_row9_col0 {\n",
              "  background-color: #fca183;\n",
              "  color: #000000;\n",
              "}\n",
              "#T_cec69_row7_col2 {\n",
              "  background-color: #fcb89e;\n",
              "  color: #000000;\n",
              "}\n",
              "#T_cec69_row7_col5 {\n",
              "  background-color: #f14130;\n",
              "  color: #f1f1f1;\n",
              "}\n",
              "#T_cec69_row7_col6 {\n",
              "  background-color: #f14432;\n",
              "  color: #f1f1f1;\n",
              "}\n",
              "#T_cec69_row7_col9 {\n",
              "  background-color: #fb6c4c;\n",
              "  color: #f1f1f1;\n",
              "}\n",
              "#T_cec69_row7_col10, #T_cec69_row9_col12 {\n",
              "  background-color: #fedaca;\n",
              "  color: #000000;\n",
              "}\n",
              "#T_cec69_row7_col12 {\n",
              "  background-color: #fdd0bc;\n",
              "  color: #000000;\n",
              "}\n",
              "#T_cec69_row8_col0 {\n",
              "  background-color: #fb7858;\n",
              "  color: #f1f1f1;\n",
              "}\n",
              "#T_cec69_row8_col1 {\n",
              "  background-color: #f5523a;\n",
              "  color: #f1f1f1;\n",
              "}\n",
              "#T_cec69_row8_col2 {\n",
              "  background-color: #fdd3c1;\n",
              "  color: #000000;\n",
              "}\n",
              "#T_cec69_row8_col4 {\n",
              "  background-color: #fee2d5;\n",
              "  color: #000000;\n",
              "}\n",
              "#T_cec69_row8_col6 {\n",
              "  background-color: #fb7656;\n",
              "  color: #f1f1f1;\n",
              "}\n",
              "#T_cec69_row8_col7 {\n",
              "  background-color: #f5533b;\n",
              "  color: #f1f1f1;\n",
              "}\n",
              "#T_cec69_row9_col1 {\n",
              "  background-color: #fa6849;\n",
              "  color: #f1f1f1;\n",
              "}\n",
              "#T_cec69_row9_col2 {\n",
              "  background-color: #fcc4ad;\n",
              "  color: #000000;\n",
              "}\n",
              "#T_cec69_row9_col3 {\n",
              "  background-color: #fcb296;\n",
              "  color: #000000;\n",
              "}\n",
              "#T_cec69_row9_col4, #T_cec69_row12_col8 {\n",
              "  background-color: #fdd2bf;\n",
              "  color: #000000;\n",
              "}\n",
              "#T_cec69_row9_col5 {\n",
              "  background-color: #fb7a5a;\n",
              "  color: #f1f1f1;\n",
              "}\n",
              "#T_cec69_row9_col6, #T_cec69_row10_col3 {\n",
              "  background-color: #fc8161;\n",
              "  color: #f1f1f1;\n",
              "}\n",
              "#T_cec69_row9_col7 {\n",
              "  background-color: #fb7151;\n",
              "  color: #f1f1f1;\n",
              "}\n",
              "#T_cec69_row9_col11 {\n",
              "  background-color: #fc9777;\n",
              "  color: #000000;\n",
              "}\n",
              "#T_cec69_row10_col1, #T_cec69_row11_col5, #T_cec69_row11_col6 {\n",
              "  background-color: #fcc1a8;\n",
              "  color: #000000;\n",
              "}\n",
              "#T_cec69_row10_col2 {\n",
              "  background-color: #fa6648;\n",
              "  color: #f1f1f1;\n",
              "}\n",
              "#T_cec69_row10_col4 {\n",
              "  background-color: #fb6e4e;\n",
              "  color: #f1f1f1;\n",
              "}\n",
              "#T_cec69_row10_col7 {\n",
              "  background-color: #ffebe2;\n",
              "  color: #000000;\n",
              "}\n",
              "#T_cec69_row10_col8 {\n",
              "  background-color: #fdcebb;\n",
              "  color: #000000;\n",
              "}\n",
              "#T_cec69_row10_col9 {\n",
              "  background-color: #fff2ec;\n",
              "  color: #000000;\n",
              "}\n",
              "#T_cec69_row10_col12 {\n",
              "  background-color: #f96346;\n",
              "  color: #f1f1f1;\n",
              "}\n",
              "#T_cec69_row11_col0 {\n",
              "  background-color: #fca285;\n",
              "  color: #000000;\n",
              "}\n",
              "#T_cec69_row11_col1 {\n",
              "  background-color: #fc8d6d;\n",
              "  color: #f1f1f1;\n",
              "}\n",
              "#T_cec69_row11_col3 {\n",
              "  background-color: #fc9272;\n",
              "  color: #000000;\n",
              "}\n",
              "#T_cec69_row11_col4 {\n",
              "  background-color: #fdc7b2;\n",
              "  color: #000000;\n",
              "}\n",
              "#T_cec69_row11_col7, #T_cec69_row12_col1 {\n",
              "  background-color: #fdcdb9;\n",
              "  color: #000000;\n",
              "}\n",
              "#T_cec69_row12_col2 {\n",
              "  background-color: #f6553c;\n",
              "  color: #f1f1f1;\n",
              "}\n",
              "#T_cec69_row12_col3 {\n",
              "  background-color: #fb7252;\n",
              "  color: #f1f1f1;\n",
              "}\n",
              "#T_cec69_row12_col4 {\n",
              "  background-color: #fb7050;\n",
              "  color: #f1f1f1;\n",
              "}\n",
              "</style>\n",
              "<table id=\"T_cec69_\" class=\"dataframe\">\n",
              "  <thead>\n",
              "    <tr>\n",
              "      <th class=\"blank level0\" >&nbsp;</th>\n",
              "      <th class=\"col_heading level0 col0\" >q1</th>\n",
              "      <th class=\"col_heading level0 col1\" >q2</th>\n",
              "      <th class=\"col_heading level0 col2\" >q3</th>\n",
              "      <th class=\"col_heading level0 col3\" >q4</th>\n",
              "      <th class=\"col_heading level0 col4\" >q5</th>\n",
              "      <th class=\"col_heading level0 col5\" >q6</th>\n",
              "      <th class=\"col_heading level0 col6\" >q7</th>\n",
              "      <th class=\"col_heading level0 col7\" >q8</th>\n",
              "      <th class=\"col_heading level0 col8\" >q9</th>\n",
              "      <th class=\"col_heading level0 col9\" >q10</th>\n",
              "      <th class=\"col_heading level0 col10\" >q11</th>\n",
              "      <th class=\"col_heading level0 col11\" >q12</th>\n",
              "      <th class=\"col_heading level0 col12\" >q13</th>\n",
              "    </tr>\n",
              "  </thead>\n",
              "  <tbody>\n",
              "    <tr>\n",
              "      <th id=\"T_cec69_level0_row0\" class=\"row_heading level0 row0\" >q1</th>\n",
              "      <td id=\"T_cec69_row0_col0\" class=\"data row0 col0\" >1.000000</td>\n",
              "      <td id=\"T_cec69_row0_col1\" class=\"data row0 col1\" >0.464187</td>\n",
              "      <td id=\"T_cec69_row0_col2\" class=\"data row0 col2\" >-0.323455</td>\n",
              "      <td id=\"T_cec69_row0_col3\" class=\"data row0 col3\" >-0.415421</td>\n",
              "      <td id=\"T_cec69_row0_col4\" class=\"data row0 col4\" >-0.300595</td>\n",
              "      <td id=\"T_cec69_row0_col5\" class=\"data row0 col5\" >0.017004</td>\n",
              "      <td id=\"T_cec69_row0_col6\" class=\"data row0 col6\" >0.014359</td>\n",
              "      <td id=\"T_cec69_row0_col7\" class=\"data row0 col7\" >0.050349</td>\n",
              "      <td id=\"T_cec69_row0_col8\" class=\"data row0 col8\" >0.227826</td>\n",
              "      <td id=\"T_cec69_row0_col9\" class=\"data row0 col9\" >0.050508</td>\n",
              "      <td id=\"T_cec69_row0_col10\" class=\"data row0 col10\" >-0.099461</td>\n",
              "      <td id=\"T_cec69_row0_col11\" class=\"data row0 col11\" >0.044484</td>\n",
              "      <td id=\"T_cec69_row0_col12\" class=\"data row0 col12\" >-0.216708</td>\n",
              "    </tr>\n",
              "    <tr>\n",
              "      <th id=\"T_cec69_level0_row1\" class=\"row_heading level0 row1\" >q2</th>\n",
              "      <td id=\"T_cec69_row1_col0\" class=\"data row1 col0\" >0.464187</td>\n",
              "      <td id=\"T_cec69_row1_col1\" class=\"data row1 col1\" >1.000000</td>\n",
              "      <td id=\"T_cec69_row1_col2\" class=\"data row1 col2\" >-0.377449</td>\n",
              "      <td id=\"T_cec69_row1_col3\" class=\"data row1 col3\" >-0.511964</td>\n",
              "      <td id=\"T_cec69_row1_col4\" class=\"data row1 col4\" >-0.370553</td>\n",
              "      <td id=\"T_cec69_row1_col5\" class=\"data row1 col5\" >0.165439</td>\n",
              "      <td id=\"T_cec69_row1_col6\" class=\"data row1 col6\" >0.192556</td>\n",
              "      <td id=\"T_cec69_row1_col7\" class=\"data row1 col7\" >0.195856</td>\n",
              "      <td id=\"T_cec69_row1_col8\" class=\"data row1 col8\" >0.342687</td>\n",
              "      <td id=\"T_cec69_row1_col9\" class=\"data row1 col9\" >0.252951</td>\n",
              "      <td id=\"T_cec69_row1_col10\" class=\"data row1 col10\" >-0.158280</td>\n",
              "      <td id=\"T_cec69_row1_col11\" class=\"data row1 col11\" >0.081041</td>\n",
              "      <td id=\"T_cec69_row1_col12\" class=\"data row1 col12\" >-0.226743</td>\n",
              "    </tr>\n",
              "    <tr>\n",
              "      <th id=\"T_cec69_level0_row2\" class=\"row_heading level0 row2\" >q3</th>\n",
              "      <td id=\"T_cec69_row2_col0\" class=\"data row2 col0\" >-0.323455</td>\n",
              "      <td id=\"T_cec69_row2_col1\" class=\"data row2 col1\" >-0.377449</td>\n",
              "      <td id=\"T_cec69_row2_col2\" class=\"data row2 col2\" >1.000000</td>\n",
              "      <td id=\"T_cec69_row2_col3\" class=\"data row2 col3\" >0.415784</td>\n",
              "      <td id=\"T_cec69_row2_col4\" class=\"data row2 col4\" >0.380626</td>\n",
              "      <td id=\"T_cec69_row2_col5\" class=\"data row2 col5\" >-0.050163</td>\n",
              "      <td id=\"T_cec69_row2_col6\" class=\"data row2 col6\" >-0.066120</td>\n",
              "      <td id=\"T_cec69_row2_col7\" class=\"data row2 col7\" >-0.020303</td>\n",
              "      <td id=\"T_cec69_row2_col8\" class=\"data row2 col8\" >-0.144305</td>\n",
              "      <td id=\"T_cec69_row2_col9\" class=\"data row2 col9\" >-0.073802</td>\n",
              "      <td id=\"T_cec69_row2_col10\" class=\"data row2 col10\" >0.324284</td>\n",
              "      <td id=\"T_cec69_row2_col11\" class=\"data row2 col11\" >-0.066518</td>\n",
              "      <td id=\"T_cec69_row2_col12\" class=\"data row2 col12\" >0.389446</td>\n",
              "    </tr>\n",
              "    <tr>\n",
              "      <th id=\"T_cec69_level0_row3\" class=\"row_heading level0 row3\" >q4</th>\n",
              "      <td id=\"T_cec69_row3_col0\" class=\"data row3 col0\" >-0.415421</td>\n",
              "      <td id=\"T_cec69_row3_col1\" class=\"data row3 col1\" >-0.511964</td>\n",
              "      <td id=\"T_cec69_row3_col2\" class=\"data row3 col2\" >0.415784</td>\n",
              "      <td id=\"T_cec69_row3_col3\" class=\"data row3 col3\" >1.000000</td>\n",
              "      <td id=\"T_cec69_row3_col4\" class=\"data row3 col4\" >0.313978</td>\n",
              "      <td id=\"T_cec69_row3_col5\" class=\"data row3 col5\" >-0.134500</td>\n",
              "      <td id=\"T_cec69_row3_col6\" class=\"data row3 col6\" >-0.139219</td>\n",
              "      <td id=\"T_cec69_row3_col7\" class=\"data row3 col7\" >-0.099616</td>\n",
              "      <td id=\"T_cec69_row3_col8\" class=\"data row3 col8\" >-0.286052</td>\n",
              "      <td id=\"T_cec69_row3_col9\" class=\"data row3 col9\" >-0.091058</td>\n",
              "      <td id=\"T_cec69_row3_col10\" class=\"data row3 col10\" >0.135208</td>\n",
              "      <td id=\"T_cec69_row3_col11\" class=\"data row3 col11\" >0.057665</td>\n",
              "      <td id=\"T_cec69_row3_col12\" class=\"data row3 col12\" >0.204996</td>\n",
              "    </tr>\n",
              "    <tr>\n",
              "      <th id=\"T_cec69_level0_row4\" class=\"row_heading level0 row4\" >q5</th>\n",
              "      <td id=\"T_cec69_row4_col0\" class=\"data row4 col0\" >-0.300595</td>\n",
              "      <td id=\"T_cec69_row4_col1\" class=\"data row4 col1\" >-0.370553</td>\n",
              "      <td id=\"T_cec69_row4_col2\" class=\"data row4 col2\" >0.380626</td>\n",
              "      <td id=\"T_cec69_row4_col3\" class=\"data row4 col3\" >0.313978</td>\n",
              "      <td id=\"T_cec69_row4_col4\" class=\"data row4 col4\" >1.000000</td>\n",
              "      <td id=\"T_cec69_row4_col5\" class=\"data row4 col5\" >0.037384</td>\n",
              "      <td id=\"T_cec69_row4_col6\" class=\"data row4 col6\" >0.036992</td>\n",
              "      <td id=\"T_cec69_row4_col7\" class=\"data row4 col7\" >-0.061609</td>\n",
              "      <td id=\"T_cec69_row4_col8\" class=\"data row4 col8\" >-0.211010</td>\n",
              "      <td id=\"T_cec69_row4_col9\" class=\"data row4 col9\" >-0.133997</td>\n",
              "      <td id=\"T_cec69_row4_col10\" class=\"data row4 col10\" >0.295632</td>\n",
              "      <td id=\"T_cec69_row4_col11\" class=\"data row4 col11\" >-0.082710</td>\n",
              "      <td id=\"T_cec69_row4_col12\" class=\"data row4 col12\" >0.290557</td>\n",
              "    </tr>\n",
              "    <tr>\n",
              "      <th id=\"T_cec69_level0_row5\" class=\"row_heading level0 row5\" >q6</th>\n",
              "      <td id=\"T_cec69_row5_col0\" class=\"data row5 col0\" >0.017004</td>\n",
              "      <td id=\"T_cec69_row5_col1\" class=\"data row5 col1\" >0.165439</td>\n",
              "      <td id=\"T_cec69_row5_col2\" class=\"data row5 col2\" >-0.050163</td>\n",
              "      <td id=\"T_cec69_row5_col3\" class=\"data row5 col3\" >-0.134500</td>\n",
              "      <td id=\"T_cec69_row5_col4\" class=\"data row5 col4\" >0.037384</td>\n",
              "      <td id=\"T_cec69_row5_col5\" class=\"data row5 col5\" >1.000000</td>\n",
              "      <td id=\"T_cec69_row5_col6\" class=\"data row5 col6\" >0.702443</td>\n",
              "      <td id=\"T_cec69_row5_col7\" class=\"data row5 col7\" >0.553255</td>\n",
              "      <td id=\"T_cec69_row5_col8\" class=\"data row5 col8\" >0.395122</td>\n",
              "      <td id=\"T_cec69_row5_col9\" class=\"data row5 col9\" >0.375345</td>\n",
              "      <td id=\"T_cec69_row5_col10\" class=\"data row5 col10\" >-0.050112</td>\n",
              "      <td id=\"T_cec69_row5_col11\" class=\"data row5 col11\" >0.129615</td>\n",
              "      <td id=\"T_cec69_row5_col12\" class=\"data row5 col12\" >-0.050609</td>\n",
              "    </tr>\n",
              "    <tr>\n",
              "      <th id=\"T_cec69_level0_row6\" class=\"row_heading level0 row6\" >q7</th>\n",
              "      <td id=\"T_cec69_row6_col0\" class=\"data row6 col0\" >0.014359</td>\n",
              "      <td id=\"T_cec69_row6_col1\" class=\"data row6 col1\" >0.192556</td>\n",
              "      <td id=\"T_cec69_row6_col2\" class=\"data row6 col2\" >-0.066120</td>\n",
              "      <td id=\"T_cec69_row6_col3\" class=\"data row6 col3\" >-0.139219</td>\n",
              "      <td id=\"T_cec69_row6_col4\" class=\"data row6 col4\" >0.036992</td>\n",
              "      <td id=\"T_cec69_row6_col5\" class=\"data row6 col5\" >0.702443</td>\n",
              "      <td id=\"T_cec69_row6_col6\" class=\"data row6 col6\" >1.000000</td>\n",
              "      <td id=\"T_cec69_row6_col7\" class=\"data row6 col7\" >0.545981</td>\n",
              "      <td id=\"T_cec69_row6_col8\" class=\"data row6 col8\" >0.387190</td>\n",
              "      <td id=\"T_cec69_row6_col9\" class=\"data row6 col9\" >0.347364</td>\n",
              "      <td id=\"T_cec69_row6_col10\" class=\"data row6 col10\" >-0.047114</td>\n",
              "      <td id=\"T_cec69_row6_col11\" class=\"data row6 col11\" >0.126632</td>\n",
              "      <td id=\"T_cec69_row6_col12\" class=\"data row6 col12\" >-0.033171</td>\n",
              "    </tr>\n",
              "    <tr>\n",
              "      <th id=\"T_cec69_level0_row7\" class=\"row_heading level0 row7\" >q8</th>\n",
              "      <td id=\"T_cec69_row7_col0\" class=\"data row7 col0\" >0.050349</td>\n",
              "      <td id=\"T_cec69_row7_col1\" class=\"data row7 col1\" >0.195856</td>\n",
              "      <td id=\"T_cec69_row7_col2\" class=\"data row7 col2\" >-0.020303</td>\n",
              "      <td id=\"T_cec69_row7_col3\" class=\"data row7 col3\" >-0.099616</td>\n",
              "      <td id=\"T_cec69_row7_col4\" class=\"data row7 col4\" >-0.061609</td>\n",
              "      <td id=\"T_cec69_row7_col5\" class=\"data row7 col5\" >0.553255</td>\n",
              "      <td id=\"T_cec69_row7_col6\" class=\"data row7 col6\" >0.545981</td>\n",
              "      <td id=\"T_cec69_row7_col7\" class=\"data row7 col7\" >1.000000</td>\n",
              "      <td id=\"T_cec69_row7_col8\" class=\"data row7 col8\" >0.515218</td>\n",
              "      <td id=\"T_cec69_row7_col9\" class=\"data row7 col9\" >0.425788</td>\n",
              "      <td id=\"T_cec69_row7_col10\" class=\"data row7 col10\" >-0.034092</td>\n",
              "      <td id=\"T_cec69_row7_col11\" class=\"data row7 col11\" >0.106901</td>\n",
              "      <td id=\"T_cec69_row7_col12\" class=\"data row7 col12\" >-0.027938</td>\n",
              "    </tr>\n",
              "    <tr>\n",
              "      <th id=\"T_cec69_level0_row8\" class=\"row_heading level0 row8\" >q9</th>\n",
              "      <td id=\"T_cec69_row8_col0\" class=\"data row8 col0\" >0.227826</td>\n",
              "      <td id=\"T_cec69_row8_col1\" class=\"data row8 col1\" >0.342687</td>\n",
              "      <td id=\"T_cec69_row8_col2\" class=\"data row8 col2\" >-0.144305</td>\n",
              "      <td id=\"T_cec69_row8_col3\" class=\"data row8 col3\" >-0.286052</td>\n",
              "      <td id=\"T_cec69_row8_col4\" class=\"data row8 col4\" >-0.211010</td>\n",
              "      <td id=\"T_cec69_row8_col5\" class=\"data row8 col5\" >0.395122</td>\n",
              "      <td id=\"T_cec69_row8_col6\" class=\"data row8 col6\" >0.387190</td>\n",
              "      <td id=\"T_cec69_row8_col7\" class=\"data row8 col7\" >0.515218</td>\n",
              "      <td id=\"T_cec69_row8_col8\" class=\"data row8 col8\" >1.000000</td>\n",
              "      <td id=\"T_cec69_row8_col9\" class=\"data row8 col9\" >0.393673</td>\n",
              "      <td id=\"T_cec69_row8_col10\" class=\"data row8 col10\" >-0.048324</td>\n",
              "      <td id=\"T_cec69_row8_col11\" class=\"data row8 col11\" >0.082268</td>\n",
              "      <td id=\"T_cec69_row8_col12\" class=\"data row8 col12\" >-0.062676</td>\n",
              "    </tr>\n",
              "    <tr>\n",
              "      <th id=\"T_cec69_level0_row9\" class=\"row_heading level0 row9\" >q10</th>\n",
              "      <td id=\"T_cec69_row9_col0\" class=\"data row9 col0\" >0.050508</td>\n",
              "      <td id=\"T_cec69_row9_col1\" class=\"data row9 col1\" >0.252951</td>\n",
              "      <td id=\"T_cec69_row9_col2\" class=\"data row9 col2\" >-0.073802</td>\n",
              "      <td id=\"T_cec69_row9_col3\" class=\"data row9 col3\" >-0.091058</td>\n",
              "      <td id=\"T_cec69_row9_col4\" class=\"data row9 col4\" >-0.133997</td>\n",
              "      <td id=\"T_cec69_row9_col5\" class=\"data row9 col5\" >0.375345</td>\n",
              "      <td id=\"T_cec69_row9_col6\" class=\"data row9 col6\" >0.347364</td>\n",
              "      <td id=\"T_cec69_row9_col7\" class=\"data row9 col7\" >0.425788</td>\n",
              "      <td id=\"T_cec69_row9_col8\" class=\"data row9 col8\" >0.393673</td>\n",
              "      <td id=\"T_cec69_row9_col9\" class=\"data row9 col9\" >1.000000</td>\n",
              "      <td id=\"T_cec69_row9_col10\" class=\"data row9 col10\" >-0.115222</td>\n",
              "      <td id=\"T_cec69_row9_col11\" class=\"data row9 col11\" >0.197457</td>\n",
              "      <td id=\"T_cec69_row9_col12\" class=\"data row9 col12\" >-0.072928</td>\n",
              "    </tr>\n",
              "    <tr>\n",
              "      <th id=\"T_cec69_level0_row10\" class=\"row_heading level0 row10\" >q11</th>\n",
              "      <td id=\"T_cec69_row10_col0\" class=\"data row10 col0\" >-0.099461</td>\n",
              "      <td id=\"T_cec69_row10_col1\" class=\"data row10 col1\" >-0.158280</td>\n",
              "      <td id=\"T_cec69_row10_col2\" class=\"data row10 col2\" >0.324284</td>\n",
              "      <td id=\"T_cec69_row10_col3\" class=\"data row10 col3\" >0.135208</td>\n",
              "      <td id=\"T_cec69_row10_col4\" class=\"data row10 col4\" >0.295632</td>\n",
              "      <td id=\"T_cec69_row10_col5\" class=\"data row10 col5\" >-0.050112</td>\n",
              "      <td id=\"T_cec69_row10_col6\" class=\"data row10 col6\" >-0.047114</td>\n",
              "      <td id=\"T_cec69_row10_col7\" class=\"data row10 col7\" >-0.034092</td>\n",
              "      <td id=\"T_cec69_row10_col8\" class=\"data row10 col8\" >-0.048324</td>\n",
              "      <td id=\"T_cec69_row10_col9\" class=\"data row10 col9\" >-0.115222</td>\n",
              "      <td id=\"T_cec69_row10_col10\" class=\"data row10 col10\" >1.000000</td>\n",
              "      <td id=\"T_cec69_row10_col11\" class=\"data row10 col11\" >-0.212513</td>\n",
              "      <td id=\"T_cec69_row10_col12\" class=\"data row10 col12\" >0.390308</td>\n",
              "    </tr>\n",
              "    <tr>\n",
              "      <th id=\"T_cec69_level0_row11\" class=\"row_heading level0 row11\" >q12</th>\n",
              "      <td id=\"T_cec69_row11_col0\" class=\"data row11 col0\" >0.044484</td>\n",
              "      <td id=\"T_cec69_row11_col1\" class=\"data row11 col1\" >0.081041</td>\n",
              "      <td id=\"T_cec69_row11_col2\" class=\"data row11 col2\" >-0.066518</td>\n",
              "      <td id=\"T_cec69_row11_col3\" class=\"data row11 col3\" >0.057665</td>\n",
              "      <td id=\"T_cec69_row11_col4\" class=\"data row11 col4\" >-0.082710</td>\n",
              "      <td id=\"T_cec69_row11_col5\" class=\"data row11 col5\" >0.129615</td>\n",
              "      <td id=\"T_cec69_row11_col6\" class=\"data row11 col6\" >0.126632</td>\n",
              "      <td id=\"T_cec69_row11_col7\" class=\"data row11 col7\" >0.106901</td>\n",
              "      <td id=\"T_cec69_row11_col8\" class=\"data row11 col8\" >0.082268</td>\n",
              "      <td id=\"T_cec69_row11_col9\" class=\"data row11 col9\" >0.197457</td>\n",
              "      <td id=\"T_cec69_row11_col10\" class=\"data row11 col10\" >-0.212513</td>\n",
              "      <td id=\"T_cec69_row11_col11\" class=\"data row11 col11\" >1.000000</td>\n",
              "      <td id=\"T_cec69_row11_col12\" class=\"data row11 col12\" >-0.258761</td>\n",
              "    </tr>\n",
              "    <tr>\n",
              "      <th id=\"T_cec69_level0_row12\" class=\"row_heading level0 row12\" >q13</th>\n",
              "      <td id=\"T_cec69_row12_col0\" class=\"data row12 col0\" >-0.216708</td>\n",
              "      <td id=\"T_cec69_row12_col1\" class=\"data row12 col1\" >-0.226743</td>\n",
              "      <td id=\"T_cec69_row12_col2\" class=\"data row12 col2\" >0.389446</td>\n",
              "      <td id=\"T_cec69_row12_col3\" class=\"data row12 col3\" >0.204996</td>\n",
              "      <td id=\"T_cec69_row12_col4\" class=\"data row12 col4\" >0.290557</td>\n",
              "      <td id=\"T_cec69_row12_col5\" class=\"data row12 col5\" >-0.050609</td>\n",
              "      <td id=\"T_cec69_row12_col6\" class=\"data row12 col6\" >-0.033171</td>\n",
              "      <td id=\"T_cec69_row12_col7\" class=\"data row12 col7\" >-0.027938</td>\n",
              "      <td id=\"T_cec69_row12_col8\" class=\"data row12 col8\" >-0.062676</td>\n",
              "      <td id=\"T_cec69_row12_col9\" class=\"data row12 col9\" >-0.072928</td>\n",
              "      <td id=\"T_cec69_row12_col10\" class=\"data row12 col10\" >0.390308</td>\n",
              "      <td id=\"T_cec69_row12_col11\" class=\"data row12 col11\" >-0.258761</td>\n",
              "      <td id=\"T_cec69_row12_col12\" class=\"data row12 col12\" >1.000000</td>\n",
              "    </tr>\n",
              "  </tbody>\n",
              "</table>\n"
            ]
          },
          "metadata": {},
          "execution_count": 19
        }
      ]
    },
    {
      "cell_type": "markdown",
      "source": [
        "As also hypothesised in the previous exercise and also shown by the highest Cronbach's alpha out of the three datasets, q3,q4 and q5 seems to be closely correlated.Two other items that seem to be also closely correlated are q6, q7 and q8"
      ],
      "metadata": {
        "id": "IpwKLXnuxpRt"
      }
    },
    {
      "cell_type": "markdown",
      "source": [
        "b) Plot a heatmap for the Correlation matrix using the seaborn library"
      ],
      "metadata": {
        "id": "YDEOqXHXyiNm"
      }
    },
    {
      "cell_type": "code",
      "source": [
        "import seaborn as sns\n",
        "import matplotlib.pyplot as plt"
      ],
      "metadata": {
        "id": "IZWcwkQSyi-v"
      },
      "execution_count": null,
      "outputs": []
    },
    {
      "cell_type": "code",
      "source": [
        "sns.heatmap(df_transformed.corr(),annot=True)"
      ],
      "metadata": {
        "colab": {
          "base_uri": "https://localhost:8080/",
          "height": 287
        },
        "id": "OTrMTHC5y6UH",
        "outputId": "ce4813d7-4842-4c93-c1e6-2808cbcb46b3"
      },
      "execution_count": null,
      "outputs": [
        {
          "output_type": "execute_result",
          "data": {
            "text/plain": [
              "<matplotlib.axes._subplots.AxesSubplot at 0x7f31fa1dce50>"
            ]
          },
          "metadata": {},
          "execution_count": 21
        },
        {
          "output_type": "display_data",
          "data": {
            "text/plain": [
              "<Figure size 432x288 with 2 Axes>"
            ],
            "image/png": "[encoded data removed]"
          },
          "metadata": {
            "needs_background": "light"
          }
        }
      ]
    },
    {
      "cell_type": "markdown",
      "source": [
        "The heatmap also shows the clusters of variables that are closely correlated, as mentioned before, q3,4,5. "
      ],
      "metadata": {
        "id": "PVgpKMIrzXJC"
      }
    },
    {
      "cell_type": "markdown",
      "source": [
        "c) Interpret the results from the correlation matrix and the heatmap. Which survey items can be grouped together ? How many clusters (group of highly correlated survey items) do you observe ? (Use Markdown cell to answer)."
      ],
      "metadata": {
        "id": "mTWzXmqv0sir"
      }
    },
    {
      "cell_type": "markdown",
      "source": [
        "As mentioned previously, by looking at the Cronbachs' alpha, I made the hypothesis that the items q3,4,5 would be closely correlated. The correlation matrix as well as the heatmap confirm this. As seen on both, where the three items are, the colours are darker, implying that t=it is closer to 1, showing a closer correlation. Another cluster I saw was the one of q6,7,8, hich also had numbers that came close to 1 and had daker colours. These would be the two clusters i would male, as they are the most prominent ones. "
      ],
      "metadata": {
        "id": "F2sr1Cw20wdP"
      }
    },
    {
      "cell_type": "markdown",
      "source": [
        "Q4. Conduct an Exploratory Factor analysis for the Tolerance Questionnaire"
      ],
      "metadata": {
        "id": "Oee_Dnzk1rWV"
      }
    },
    {
      "cell_type": "markdown",
      "source": [
        "a) Conduct an Exploratory Factor Analysis on df_transformed. Set the number of factors n_factors equal to the number of items in the survey and choose method = 'principal' for principal factor extraction method of exploratory factor analysis"
      ],
      "metadata": {
        "id": "7N_z_llR1vWC"
      }
    },
    {
      "cell_type": "code",
      "source": [
        "no_of_items = df_transformed.shape[1] \n",
        "no_of_items"
      ],
      "metadata": {
        "colab": {
          "base_uri": "https://localhost:8080/"
        },
        "id": "bSOS22Zy1yd3",
        "outputId": "3c3df943-5310-460a-80f2-db9558069c38"
      },
      "execution_count": null,
      "outputs": [
        {
          "output_type": "execute_result",
          "data": {
            "text/plain": [
              "13"
            ]
          },
          "metadata": {},
          "execution_count": 13
        }
      ]
    },
    {
      "cell_type": "markdown",
      "source": [
        "this number shows the number of questions in our survey"
      ],
      "metadata": {
        "id": "kjU2hQ-C2L6f"
      }
    },
    {
      "cell_type": "code",
      "source": [
        "from factor_analyzer import FactorAnalyzer\n",
        "fa = FactorAnalyzer(n_factors=no_of_items, method='principal') \n",
        "fa.fit(df_transformed)"
      ],
      "metadata": {
        "colab": {
          "base_uri": "https://localhost:8080/"
        },
        "id": "5IfGiB9V2D7T",
        "outputId": "74613da5-3f23-42fa-d98b-e9e4d1eb7c2e"
      },
      "execution_count": null,
      "outputs": [
        {
          "output_type": "stream",
          "name": "stderr",
          "text": [
            "/usr/local/lib/python3.7/dist-packages/sklearn/utils/extmath.py:376: FutureWarning: If 'random_state' is not supplied, the current default is to use 0 as a fixed seed. This will change to  None in version 1.2 leading to non-deterministic results that better reflect nature of the randomized_svd solver. If you want to silence this warning, set 'random_state' to an integer seed or to None explicitly depending if you want your code to be deterministic or not.\n",
            "  FutureWarning,\n"
          ]
        },
        {
          "output_type": "execute_result",
          "data": {
            "text/plain": [
              "FactorAnalyzer(method='principal', n_factors=13, rotation_kwargs={})"
            ]
          },
          "metadata": {},
          "execution_count": 23
        }
      ]
    },
    {
      "cell_type": "markdown",
      "source": [
        "b) Print the eigen values and make the scree plot."
      ],
      "metadata": {
        "id": "9oOkXQaC2odk"
      }
    },
    {
      "cell_type": "code",
      "source": [
        "ev, v = fa.get_eigenvalues()\n",
        "ev"
      ],
      "metadata": {
        "colab": {
          "base_uri": "https://localhost:8080/"
        },
        "id": "pwYT02Hg2pMP",
        "outputId": "cc0af9c5-aa2a-4a9c-e041-b9fbf3e676c1"
      },
      "execution_count": null,
      "outputs": [
        {
          "output_type": "execute_result",
          "data": {
            "text/plain": [
              "array([3.57438104, 2.37548199, 1.39390696, 0.88689717, 0.81222878,\n",
              "       0.62111575, 0.58360117, 0.57768912, 0.52809613, 0.5123727 ,\n",
              "       0.43921023, 0.40154669, 0.29347228])"
            ]
          },
          "metadata": {},
          "execution_count": 24
        }
      ]
    },
    {
      "cell_type": "code",
      "source": [
        "import matplotlib.pyplot as plt"
      ],
      "metadata": {
        "id": "1qG_4zf72ycf"
      },
      "execution_count": null,
      "outputs": []
    },
    {
      "cell_type": "code",
      "source": [
        "x_axis = range(1, no_of_items+1)\n",
        "y_axis = ev"
      ],
      "metadata": {
        "id": "-dYtEvf62zkw"
      },
      "execution_count": null,
      "outputs": []
    },
    {
      "cell_type": "code",
      "source": [
        "plt.scatter(x_axis, y_axis)\n",
        "plt.plot(x_axis, y_axis)\n",
        "plt.title('Scree Plot')\n",
        "plt.xlabel('Questions')\n",
        "plt.ylabel('eigenvalues')\n",
        "plt.grid()\n",
        "plt.show()"
      ],
      "metadata": {
        "colab": {
          "base_uri": "https://localhost:8080/",
          "height": 295
        },
        "id": "pT44syRH22vT",
        "outputId": "e353bc16-6e34-40bf-da98-99ceeb9414b3"
      },
      "execution_count": null,
      "outputs": [
        {
          "output_type": "display_data",
          "data": {
            "text/plain": [
              "<Figure size 432x288 with 1 Axes>"
            ],
            "image/png": "[encoded data removed]"
          },
          "metadata": {
            "needs_background": "light"
          }
        }
      ]
    },
    {
      "cell_type": "markdown",
      "source": [
        "c) How many factors will you choose depending on the eigen values and the interpretation of the scree plot ? Explain the reason of your choice"
      ],
      "metadata": {
        "id": "uqWRa1tv5qfH"
      }
    },
    {
      "cell_type": "markdown",
      "source": [
        "Looking at the scree plot and at the eigen value, I would choose the first three values as eigen values, as they have the eigen value above 1. These three values are: 3.57, 2.37, 1.39. In the scree plot above, the first three values are above 1, hence why they are the eigen values. "
      ],
      "metadata": {
        "id": "6n3XSdD54cTE"
      }
    },
    {
      "cell_type": "markdown",
      "source": [
        "d) What are the coordinates (x,y) of the point of inflexion ?"
      ],
      "metadata": {
        "id": "E7DMg2oS5t5G"
      }
    },
    {
      "cell_type": "markdown",
      "source": [
        "the coordinates are (6, 0.6)"
      ],
      "metadata": {
        "id": "JGV1WNRJ56wo"
      }
    },
    {
      "cell_type": "markdown",
      "source": [
        "Q5. Interpreting the results of Exploratory Factor Analysis"
      ],
      "metadata": {
        "id": "12HNcPKQ8UJ2"
      }
    },
    {
      "cell_type": "markdown",
      "source": [
        "a) Fit the factor analysis model on the retained factors. Set n_factors as the number of retained factors. Set method = 'principal' and rotation = 'varimax'"
      ],
      "metadata": {
        "id": "JxVLA2jm9N9_"
      }
    },
    {
      "cell_type": "code",
      "source": [
        "no_of_retained_factors = 3\n",
        "fa = FactorAnalyzer(n_factors = no_of_retained_factors , method='principal', rotation ='varimax')\n",
        "fa.fit(df_transformed) "
      ],
      "metadata": {
        "colab": {
          "base_uri": "https://localhost:8080/"
        },
        "id": "TPrULUt69SpK",
        "outputId": "fa5bb8e0-9587-4e7e-94a8-4505f4fd2a52"
      },
      "execution_count": null,
      "outputs": [
        {
          "output_type": "stream",
          "name": "stderr",
          "text": [
            "/usr/local/lib/python3.7/dist-packages/sklearn/utils/extmath.py:376: FutureWarning: If 'random_state' is not supplied, the current default is to use 0 as a fixed seed. This will change to  None in version 1.2 leading to non-deterministic results that better reflect nature of the randomized_svd solver. If you want to silence this warning, set 'random_state' to an integer seed or to None explicitly depending if you want your code to be deterministic or not.\n",
            "  FutureWarning,\n"
          ]
        },
        {
          "output_type": "execute_result",
          "data": {
            "text/plain": [
              "FactorAnalyzer(method='principal', rotation='varimax', rotation_kwargs={})"
            ]
          },
          "metadata": {},
          "execution_count": 15
        }
      ]
    },
    {
      "cell_type": "markdown",
      "source": [
        "I put the number three as the eigenvalues are 3"
      ],
      "metadata": {
        "id": "rkGYQitn9z1W"
      }
    },
    {
      "cell_type": "markdown",
      "source": [
        "b) Print the factor loading matrix. Create a pandas dataframe, df_loadings from the factor loading matrix. The index of the factor loadings dataframe represent the survey items/questions. The columns of the dataframe represent the factor names. If you have retained m factors then the names of the columns of the DataFrame should be: Factor 0, Factor 1, ........ Factor m-1. For example, if m=3 then your column names are: Factor 0, Factor 1 and Factor 2."
      ],
      "metadata": {
        "id": "nOHVLGi5-BpK"
      }
    },
    {
      "cell_type": "code",
      "source": [
        "fa.loadings_"
      ],
      "metadata": {
        "colab": {
          "base_uri": "https://localhost:8080/"
        },
        "id": "zOYD9aq4-Cmo",
        "outputId": "827ca55e-258f-486b-bb64-004f90669b0c"
      },
      "execution_count": null,
      "outputs": [
        {
          "output_type": "execute_result",
          "data": {
            "text/plain": [
              "array([[ 8.16792823e-03, -7.19411927e-01, -6.09977195e-03],\n",
              "       [ 2.48456302e-01, -7.40264990e-01, -7.17594756e-02],\n",
              "       [ 1.71980011e-02,  6.15277028e-01,  3.84632092e-01],\n",
              "       [-1.25112991e-01,  7.75132254e-01, -4.53642102e-02],\n",
              "       [ 2.64961334e-02,  5.80311998e-01,  3.42197345e-01],\n",
              "       [ 8.24240513e-01,  1.22543957e-02, -4.08584227e-02],\n",
              "       [ 8.14162953e-01, -3.31317773e-03, -2.63779046e-02],\n",
              "       [ 8.06757699e-01, -4.97824063e-02,  6.85677839e-04],\n",
              "       [ 6.49112908e-01, -3.62784226e-01,  5.32671002e-02],\n",
              "       [ 6.28269761e-01, -7.34003052e-02, -1.88225020e-01],\n",
              "       [-6.32644629e-03,  1.66551315e-01,  7.28423928e-01],\n",
              "       [ 2.04599072e-01,  1.53528554e-01, -6.48728262e-01],\n",
              "       [ 1.85055947e-02,  2.89722833e-01,  7.02108669e-01]])"
            ]
          },
          "metadata": {},
          "execution_count": 16
        }
      ]
    },
    {
      "cell_type": "code",
      "source": [
        "df_loadings = fa.loadings_"
      ],
      "metadata": {
        "id": "tjY3OkNE-NXk"
      },
      "execution_count": null,
      "outputs": []
    },
    {
      "cell_type": "code",
      "source": [
        "df_loadings = pd.DataFrame(fa.loadings_, index = df_transformed.columns , columns = ['Factor 0', 'Factor 1', 'Factor 2'] )"
      ],
      "metadata": {
        "id": "RqCSHrRJ-Wpo"
      },
      "execution_count": null,
      "outputs": []
    },
    {
      "cell_type": "code",
      "source": [
        "df_loadings "
      ],
      "metadata": {
        "colab": {
          "base_uri": "https://localhost:8080/",
          "height": 457
        },
        "id": "O6xrBcnX-nc6",
        "outputId": "fb25c06e-25ff-4d5c-83c6-038648418911"
      },
      "execution_count": null,
      "outputs": [
        {
          "output_type": "execute_result",
          "data": {
            "text/plain": [
              "     Factor 0  Factor 1  Factor 2\n",
              "q1   0.008168 -0.719412 -0.006100\n",
              "q2   0.248456 -0.740265 -0.071759\n",
              "q3   0.017198  0.615277  0.384632\n",
              "q4  -0.125113  0.775132 -0.045364\n",
              "q5   0.026496  0.580312  0.342197\n",
              "q6   0.824241  0.012254 -0.040858\n",
              "q7   0.814163 -0.003313 -0.026378\n",
              "q8   0.806758 -0.049782  0.000686\n",
              "q9   0.649113 -0.362784  0.053267\n",
              "q10  0.628270 -0.073400 -0.188225\n",
              "q11 -0.006326  0.166551  0.728424\n",
              "q12  0.204599  0.153529 -0.648728\n",
              "q13  0.018506  0.289723  0.702109"
            ],
            "text/html": [
              "\n",
              "  <div id=\"df-c1b804c2-b22a-418a-beb0-56096041de76\">\n",
              "    <div class=\"colab-df-container\">\n",
              "      <div>\n",
              "<style scoped>\n",
              "    .dataframe tbody tr th:only-of-type {\n",
              "        vertical-align: middle;\n",
              "    }\n",
              "\n",
              "    .dataframe tbody tr th {\n",
              "        vertical-align: top;\n",
              "    }\n",
              "\n",
              "    .dataframe thead th {\n",
              "        text-align: right;\n",
              "    }\n",
              "</style>\n",
              "<table border=\"1\" class=\"dataframe\">\n",
              "  <thead>\n",
              "    <tr style=\"text-align: right;\">\n",
              "      <th></th>\n",
              "      <th>Factor 0</th>\n",
              "      <th>Factor 1</th>\n",
              "      <th>Factor 2</th>\n",
              "    </tr>\n",
              "  </thead>\n",
              "  <tbody>\n",
              "    <tr>\n",
              "      <th>q1</th>\n",
              "      <td>0.008168</td>\n",
              "      <td>-0.719412</td>\n",
              "      <td>-0.006100</td>\n",
              "    </tr>\n",
              "    <tr>\n",
              "      <th>q2</th>\n",
              "      <td>0.248456</td>\n",
              "      <td>-0.740265</td>\n",
              "      <td>-0.071759</td>\n",
              "    </tr>\n",
              "    <tr>\n",
              "      <th>q3</th>\n",
              "      <td>0.017198</td>\n",
              "      <td>0.615277</td>\n",
              "      <td>0.384632</td>\n",
              "    </tr>\n",
              "    <tr>\n",
              "      <th>q4</th>\n",
              "      <td>-0.125113</td>\n",
              "      <td>0.775132</td>\n",
              "      <td>-0.045364</td>\n",
              "    </tr>\n",
              "    <tr>\n",
              "      <th>q5</th>\n",
              "      <td>0.026496</td>\n",
              "      <td>0.580312</td>\n",
              "      <td>0.342197</td>\n",
              "    </tr>\n",
              "    <tr>\n",
              "      <th>q6</th>\n",
              "      <td>0.824241</td>\n",
              "      <td>0.012254</td>\n",
              "      <td>-0.040858</td>\n",
              "    </tr>\n",
              "    <tr>\n",
              "      <th>q7</th>\n",
              "      <td>0.814163</td>\n",
              "      <td>-0.003313</td>\n",
              "      <td>-0.026378</td>\n",
              "    </tr>\n",
              "    <tr>\n",
              "      <th>q8</th>\n",
              "      <td>0.806758</td>\n",
              "      <td>-0.049782</td>\n",
              "      <td>0.000686</td>\n",
              "    </tr>\n",
              "    <tr>\n",
              "      <th>q9</th>\n",
              "      <td>0.649113</td>\n",
              "      <td>-0.362784</td>\n",
              "      <td>0.053267</td>\n",
              "    </tr>\n",
              "    <tr>\n",
              "      <th>q10</th>\n",
              "      <td>0.628270</td>\n",
              "      <td>-0.073400</td>\n",
              "      <td>-0.188225</td>\n",
              "    </tr>\n",
              "    <tr>\n",
              "      <th>q11</th>\n",
              "      <td>-0.006326</td>\n",
              "      <td>0.166551</td>\n",
              "      <td>0.728424</td>\n",
              "    </tr>\n",
              "    <tr>\n",
              "      <th>q12</th>\n",
              "      <td>0.204599</td>\n",
              "      <td>0.153529</td>\n",
              "      <td>-0.648728</td>\n",
              "    </tr>\n",
              "    <tr>\n",
              "      <th>q13</th>\n",
              "      <td>0.018506</td>\n",
              "      <td>0.289723</td>\n",
              "      <td>0.702109</td>\n",
              "    </tr>\n",
              "  </tbody>\n",
              "</table>\n",
              "</div>\n",
              "      <button class=\"colab-df-convert\" onclick=\"convertToInteractive('df-c1b804c2-b22a-418a-beb0-56096041de76')\"\n",
              "              title=\"Convert this dataframe to an interactive table.\"\n",
              "              style=\"display:none;\">\n",
              "        \n",
              "  <svg xmlns=\"http://www.w3.org/2000/svg\" height=\"24px\"viewBox=\"0 0 24 24\"\n",
              "       width=\"24px\">\n",
              "    <path d=\"M0 0h24v24H0V0z\" fill=\"none\"/>\n",
              "    <path d=\"M18.56 5.44l.94 2.06.94-2.06 2.06-.94-2.06-.94-.94-2.06-.94 2.06-2.06.94zm-11 1L8.5 8.5l.94-2.06 2.06-.94-2.06-.94L8.5 2.5l-.94 2.06-2.06.94zm10 10l.94 2.06.94-2.06 2.06-.94-2.06-.94-.94-2.06-.94 2.06-2.06.94z\"/><path d=\"M17.41 7.96l-1.37-1.37c-.4-.4-.92-.59-1.43-.59-.52 0-1.04.2-1.43.59L10.3 9.45l-7.72 7.72c-.78.78-.78 2.05 0 2.83L4 21.41c.39.39.9.59 1.41.59.51 0 1.02-.2 1.41-.59l7.78-7.78 2.81-2.81c.8-.78.8-2.07 0-2.86zM5.41 20L4 18.59l7.72-7.72 1.47 1.35L5.41 20z\"/>\n",
              "  </svg>\n",
              "      </button>\n",
              "      \n",
              "  <style>\n",
              "    .colab-df-container {\n",
              "      display:flex;\n",
              "      flex-wrap:wrap;\n",
              "      gap: 12px;\n",
              "    }\n",
              "\n",
              "    .colab-df-convert {\n",
              "      background-color: #E8F0FE;\n",
              "      border: none;\n",
              "      border-radius: 50%;\n",
              "      cursor: pointer;\n",
              "      display: none;\n",
              "      fill: #1967D2;\n",
              "      height: 32px;\n",
              "      padding: 0 0 0 0;\n",
              "      width: 32px;\n",
              "    }\n",
              "\n",
              "    .colab-df-convert:hover {\n",
              "      background-color: #E2EBFA;\n",
              "      box-shadow: 0px 1px 2px rgba(60, 64, 67, 0.3), 0px 1px 3px 1px rgba(60, 64, 67, 0.15);\n",
              "      fill: #174EA6;\n",
              "    }\n",
              "\n",
              "    [theme=dark] .colab-df-convert {\n",
              "      background-color: #3B4455;\n",
              "      fill: #D2E3FC;\n",
              "    }\n",
              "\n",
              "    [theme=dark] .colab-df-convert:hover {\n",
              "      background-color: #434B5C;\n",
              "      box-shadow: 0px 1px 3px 1px rgba(0, 0, 0, 0.15);\n",
              "      filter: drop-shadow(0px 1px 2px rgba(0, 0, 0, 0.3));\n",
              "      fill: #FFFFFF;\n",
              "    }\n",
              "  </style>\n",
              "\n",
              "      <script>\n",
              "        const buttonEl =\n",
              "          document.querySelector('#df-c1b804c2-b22a-418a-beb0-56096041de76 button.colab-df-convert');\n",
              "        buttonEl.style.display =\n",
              "          google.colab.kernel.accessAllowed ? 'block' : 'none';\n",
              "\n",
              "        async function convertToInteractive(key) {\n",
              "          const element = document.querySelector('#df-c1b804c2-b22a-418a-beb0-56096041de76');\n",
              "          const dataTable =\n",
              "            await google.colab.kernel.invokeFunction('convertToInteractive',\n",
              "                                                     [key], {});\n",
              "          if (!dataTable) return;\n",
              "\n",
              "          const docLinkHtml = 'Like what you see? Visit the ' +\n",
              "            '<a target=\"_blank\" href=https://colab.research.google.com/notebooks/data_table.ipynb>data table notebook</a>'\n",
              "            + ' to learn more about interactive tables.';\n",
              "          element.innerHTML = '';\n",
              "          dataTable['output_type'] = 'display_data';\n",
              "          await google.colab.output.renderOutput(dataTable, element);\n",
              "          const docLink = document.createElement('div');\n",
              "          docLink.innerHTML = docLinkHtml;\n",
              "          element.appendChild(docLink);\n",
              "        }\n",
              "      </script>\n",
              "    </div>\n",
              "  </div>\n",
              "  "
            ]
          },
          "metadata": {},
          "execution_count": 19
        }
      ]
    },
    {
      "cell_type": "code",
      "source": [
        "df_loadings.style.background_gradient(cmap = \"Blues\")"
      ],
      "metadata": {
        "colab": {
          "base_uri": "https://localhost:8080/",
          "height": 457
        },
        "id": "IStPeuYQ-4hB",
        "outputId": "d8e1b52c-6b11-4bcf-afc3-1987fb227edf"
      },
      "execution_count": null,
      "outputs": [
        {
          "output_type": "execute_result",
          "data": {
            "text/plain": [
              "<pandas.io.formats.style.Styler at 0x7efc4be3fc10>"
            ],
            "text/html": [
              "<style type=\"text/css\">\n",
              "#T_1d056_row0_col0 {\n",
              "  background-color: #dce9f6;\n",
              "  color: #000000;\n",
              "}\n",
              "#T_1d056_row0_col1 {\n",
              "  background-color: #f5f9fe;\n",
              "  color: #000000;\n",
              "}\n",
              "#T_1d056_row0_col2 {\n",
              "  background-color: #79b5d9;\n",
              "  color: #000000;\n",
              "}\n",
              "#T_1d056_row1_col0 {\n",
              "  background-color: #97c6df;\n",
              "  color: #000000;\n",
              "}\n",
              "#T_1d056_row1_col1, #T_1d056_row3_col0, #T_1d056_row11_col2 {\n",
              "  background-color: #f7fbff;\n",
              "  color: #000000;\n",
              "}\n",
              "#T_1d056_row1_col2 {\n",
              "  background-color: #8cc0dd;\n",
              "  color: #000000;\n",
              "}\n",
              "#T_1d056_row2_col0, #T_1d056_row12_col0 {\n",
              "  background-color: #d9e8f5;\n",
              "  color: #000000;\n",
              "}\n",
              "#T_1d056_row2_col1 {\n",
              "  background-color: #084c95;\n",
              "  color: #f1f1f1;\n",
              "}\n",
              "#T_1d056_row2_col2 {\n",
              "  background-color: #2070b4;\n",
              "  color: #f1f1f1;\n",
              "}\n",
              "#T_1d056_row3_col1, #T_1d056_row5_col0, #T_1d056_row10_col2 {\n",
              "  background-color: #08306b;\n",
              "  color: #f1f1f1;\n",
              "}\n",
              "#T_1d056_row3_col2, #T_1d056_row5_col2, #T_1d056_row9_col1 {\n",
              "  background-color: #84bcdb;\n",
              "  color: #000000;\n",
              "}\n",
              "#T_1d056_row4_col0 {\n",
              "  background-color: #d8e7f5;\n",
              "  color: #000000;\n",
              "}\n",
              "#T_1d056_row4_col1 {\n",
              "  background-color: #08519c;\n",
              "  color: #f1f1f1;\n",
              "}\n",
              "#T_1d056_row4_col2 {\n",
              "  background-color: #2979b9;\n",
              "  color: #f1f1f1;\n",
              "}\n",
              "#T_1d056_row5_col1 {\n",
              "  background-color: #6caed6;\n",
              "  color: #f1f1f1;\n",
              "}\n",
              "#T_1d056_row6_col0 {\n",
              "  background-color: #08326e;\n",
              "  color: #f1f1f1;\n",
              "}\n",
              "#T_1d056_row6_col1 {\n",
              "  background-color: #71b1d7;\n",
              "  color: #f1f1f1;\n",
              "}\n",
              "#T_1d056_row6_col2 {\n",
              "  background-color: #7fb9da;\n",
              "  color: #000000;\n",
              "}\n",
              "#T_1d056_row7_col0, #T_1d056_row12_col2 {\n",
              "  background-color: #083471;\n",
              "  color: #f1f1f1;\n",
              "}\n",
              "#T_1d056_row7_col1 {\n",
              "  background-color: #7db8da;\n",
              "  color: #000000;\n",
              "}\n",
              "#T_1d056_row7_col2 {\n",
              "  background-color: #77b5d9;\n",
              "  color: #000000;\n",
              "}\n",
              "#T_1d056_row8_col0 {\n",
              "  background-color: #1460a8;\n",
              "  color: #f1f1f1;\n",
              "}\n",
              "#T_1d056_row8_col1 {\n",
              "  background-color: #c7dbef;\n",
              "  color: #000000;\n",
              "}\n",
              "#T_1d056_row8_col2 {\n",
              "  background-color: #68acd5;\n",
              "  color: #f1f1f1;\n",
              "}\n",
              "#T_1d056_row9_col0 {\n",
              "  background-color: #1865ac;\n",
              "  color: #f1f1f1;\n",
              "}\n",
              "#T_1d056_row9_col2 {\n",
              "  background-color: #abd0e6;\n",
              "  color: #000000;\n",
              "}\n",
              "#T_1d056_row10_col0 {\n",
              "  background-color: #deebf7;\n",
              "  color: #000000;\n",
              "}\n",
              "#T_1d056_row10_col1 {\n",
              "  background-color: #4a98c9;\n",
              "  color: #f1f1f1;\n",
              "}\n",
              "#T_1d056_row11_col0 {\n",
              "  background-color: #a8cee4;\n",
              "  color: #000000;\n",
              "}\n",
              "#T_1d056_row11_col1 {\n",
              "  background-color: #4e9acb;\n",
              "  color: #f1f1f1;\n",
              "}\n",
              "#T_1d056_row12_col1 {\n",
              "  background-color: #3484bf;\n",
              "  color: #f1f1f1;\n",
              "}\n",
              "</style>\n",
              "<table id=\"T_1d056_\" class=\"dataframe\">\n",
              "  <thead>\n",
              "    <tr>\n",
              "      <th class=\"blank level0\" >&nbsp;</th>\n",
              "      <th class=\"col_heading level0 col0\" >Factor 0</th>\n",
              "      <th class=\"col_heading level0 col1\" >Factor 1</th>\n",
              "      <th class=\"col_heading level0 col2\" >Factor 2</th>\n",
              "    </tr>\n",
              "  </thead>\n",
              "  <tbody>\n",
              "    <tr>\n",
              "      <th id=\"T_1d056_level0_row0\" class=\"row_heading level0 row0\" >q1</th>\n",
              "      <td id=\"T_1d056_row0_col0\" class=\"data row0 col0\" >0.008168</td>\n",
              "      <td id=\"T_1d056_row0_col1\" class=\"data row0 col1\" >-0.719412</td>\n",
              "      <td id=\"T_1d056_row0_col2\" class=\"data row0 col2\" >-0.006100</td>\n",
              "    </tr>\n",
              "    <tr>\n",
              "      <th id=\"T_1d056_level0_row1\" class=\"row_heading level0 row1\" >q2</th>\n",
              "      <td id=\"T_1d056_row1_col0\" class=\"data row1 col0\" >0.248456</td>\n",
              "      <td id=\"T_1d056_row1_col1\" class=\"data row1 col1\" >-0.740265</td>\n",
              "      <td id=\"T_1d056_row1_col2\" class=\"data row1 col2\" >-0.071759</td>\n",
              "    </tr>\n",
              "    <tr>\n",
              "      <th id=\"T_1d056_level0_row2\" class=\"row_heading level0 row2\" >q3</th>\n",
              "      <td id=\"T_1d056_row2_col0\" class=\"data row2 col0\" >0.017198</td>\n",
              "      <td id=\"T_1d056_row2_col1\" class=\"data row2 col1\" >0.615277</td>\n",
              "      <td id=\"T_1d056_row2_col2\" class=\"data row2 col2\" >0.384632</td>\n",
              "    </tr>\n",
              "    <tr>\n",
              "      <th id=\"T_1d056_level0_row3\" class=\"row_heading level0 row3\" >q4</th>\n",
              "      <td id=\"T_1d056_row3_col0\" class=\"data row3 col0\" >-0.125113</td>\n",
              "      <td id=\"T_1d056_row3_col1\" class=\"data row3 col1\" >0.775132</td>\n",
              "      <td id=\"T_1d056_row3_col2\" class=\"data row3 col2\" >-0.045364</td>\n",
              "    </tr>\n",
              "    <tr>\n",
              "      <th id=\"T_1d056_level0_row4\" class=\"row_heading level0 row4\" >q5</th>\n",
              "      <td id=\"T_1d056_row4_col0\" class=\"data row4 col0\" >0.026496</td>\n",
              "      <td id=\"T_1d056_row4_col1\" class=\"data row4 col1\" >0.580312</td>\n",
              "      <td id=\"T_1d056_row4_col2\" class=\"data row4 col2\" >0.342197</td>\n",
              "    </tr>\n",
              "    <tr>\n",
              "      <th id=\"T_1d056_level0_row5\" class=\"row_heading level0 row5\" >q6</th>\n",
              "      <td id=\"T_1d056_row5_col0\" class=\"data row5 col0\" >0.824241</td>\n",
              "      <td id=\"T_1d056_row5_col1\" class=\"data row5 col1\" >0.012254</td>\n",
              "      <td id=\"T_1d056_row5_col2\" class=\"data row5 col2\" >-0.040858</td>\n",
              "    </tr>\n",
              "    <tr>\n",
              "      <th id=\"T_1d056_level0_row6\" class=\"row_heading level0 row6\" >q7</th>\n",
              "      <td id=\"T_1d056_row6_col0\" class=\"data row6 col0\" >0.814163</td>\n",
              "      <td id=\"T_1d056_row6_col1\" class=\"data row6 col1\" >-0.003313</td>\n",
              "      <td id=\"T_1d056_row6_col2\" class=\"data row6 col2\" >-0.026378</td>\n",
              "    </tr>\n",
              "    <tr>\n",
              "      <th id=\"T_1d056_level0_row7\" class=\"row_heading level0 row7\" >q8</th>\n",
              "      <td id=\"T_1d056_row7_col0\" class=\"data row7 col0\" >0.806758</td>\n",
              "      <td id=\"T_1d056_row7_col1\" class=\"data row7 col1\" >-0.049782</td>\n",
              "      <td id=\"T_1d056_row7_col2\" class=\"data row7 col2\" >0.000686</td>\n",
              "    </tr>\n",
              "    <tr>\n",
              "      <th id=\"T_1d056_level0_row8\" class=\"row_heading level0 row8\" >q9</th>\n",
              "      <td id=\"T_1d056_row8_col0\" class=\"data row8 col0\" >0.649113</td>\n",
              "      <td id=\"T_1d056_row8_col1\" class=\"data row8 col1\" >-0.362784</td>\n",
              "      <td id=\"T_1d056_row8_col2\" class=\"data row8 col2\" >0.053267</td>\n",
              "    </tr>\n",
              "    <tr>\n",
              "      <th id=\"T_1d056_level0_row9\" class=\"row_heading level0 row9\" >q10</th>\n",
              "      <td id=\"T_1d056_row9_col0\" class=\"data row9 col0\" >0.628270</td>\n",
              "      <td id=\"T_1d056_row9_col1\" class=\"data row9 col1\" >-0.073400</td>\n",
              "      <td id=\"T_1d056_row9_col2\" class=\"data row9 col2\" >-0.188225</td>\n",
              "    </tr>\n",
              "    <tr>\n",
              "      <th id=\"T_1d056_level0_row10\" class=\"row_heading level0 row10\" >q11</th>\n",
              "      <td id=\"T_1d056_row10_col0\" class=\"data row10 col0\" >-0.006326</td>\n",
              "      <td id=\"T_1d056_row10_col1\" class=\"data row10 col1\" >0.166551</td>\n",
              "      <td id=\"T_1d056_row10_col2\" class=\"data row10 col2\" >0.728424</td>\n",
              "    </tr>\n",
              "    <tr>\n",
              "      <th id=\"T_1d056_level0_row11\" class=\"row_heading level0 row11\" >q12</th>\n",
              "      <td id=\"T_1d056_row11_col0\" class=\"data row11 col0\" >0.204599</td>\n",
              "      <td id=\"T_1d056_row11_col1\" class=\"data row11 col1\" >0.153529</td>\n",
              "      <td id=\"T_1d056_row11_col2\" class=\"data row11 col2\" >-0.648728</td>\n",
              "    </tr>\n",
              "    <tr>\n",
              "      <th id=\"T_1d056_level0_row12\" class=\"row_heading level0 row12\" >q13</th>\n",
              "      <td id=\"T_1d056_row12_col0\" class=\"data row12 col0\" >0.018506</td>\n",
              "      <td id=\"T_1d056_row12_col1\" class=\"data row12 col1\" >0.289723</td>\n",
              "      <td id=\"T_1d056_row12_col2\" class=\"data row12 col2\" >0.702109</td>\n",
              "    </tr>\n",
              "  </tbody>\n",
              "</table>\n"
            ]
          },
          "metadata": {},
          "execution_count": 20
        }
      ]
    },
    {
      "cell_type": "markdown",
      "source": [
        "c) Mention the most representative survey items/questions for each Factor. Consider a threshold of above +0.55 and below -0.55 for choosing the factor loadings"
      ],
      "metadata": {
        "id": "5HQG5Elc_Q3S"
      }
    },
    {
      "cell_type": "markdown",
      "source": [
        "As the number 0.55 is the representative one, once a threshold is above 0.55 or below then the factor is repesentative for that question. For instance, factor 0 is representative of q6,7,8, as they are all above 0.55. Factor 1 is representative of q3,4,5. For factor 2, it is repesentative of q1,2 as they are below -0.55. "
      ],
      "metadata": {
        "id": "-MoK7g7f_RxU"
      }
    },
    {
      "cell_type": "markdown",
      "source": [
        "d) Compute the unique variance for each survey item (assume that the total variance is 1). Store or print the results in an array or dataframe."
      ],
      "metadata": {
        "id": "ZciiFWJYBArD"
      }
    },
    {
      "cell_type": "markdown",
      "source": [
        "by doing this i have represented the survey data in terms of factors."
      ],
      "metadata": {
        "id": "R96HOvxBG502"
      }
    },
    {
      "cell_type": "code",
      "source": [
        "fa.get_uniquenesses()"
      ],
      "metadata": {
        "colab": {
          "base_uri": "https://localhost:8080/"
        },
        "id": "_8ft-nIkPWdT",
        "outputId": "11ca65cc-2315-4293-bf91-baedea908c5a"
      },
      "execution_count": null,
      "outputs": [
        {
          "output_type": "execute_result",
          "data": {
            "text/plain": [
              "array([0.48234256, 0.38512779, 0.47319656, 0.38145882, 0.54543692,\n",
              "       0.318808  , 0.33643192, 0.34666326, 0.44420265, 0.56446084,\n",
              "       0.44161922, 0.51371985, 0.42276164])"
            ]
          },
          "metadata": {},
          "execution_count": 23
        }
      ]
    },
    {
      "cell_type": "code",
      "source": [
        "df_uniquevariance = pd.DataFrame(fa.get_uniquenesses(), index = ['q1', 'q2', 'q3', 'q4', 'q5', 'q6', 'q7', 'q8','q9','q10','q11','q12','q13'])\n",
        "df_uniquevariance"
      ],
      "metadata": {
        "id": "TNoZzPRHQF_L",
        "colab": {
          "base_uri": "https://localhost:8080/",
          "height": 457
        },
        "outputId": "3f86ff13-56e0-4254-f9c9-b1f9b3503408"
      },
      "execution_count": null,
      "outputs": [
        {
          "output_type": "execute_result",
          "data": {
            "text/plain": [
              "            0\n",
              "q1   0.482343\n",
              "q2   0.385128\n",
              "q3   0.473197\n",
              "q4   0.381459\n",
              "q5   0.545437\n",
              "q6   0.318808\n",
              "q7   0.336432\n",
              "q8   0.346663\n",
              "q9   0.444203\n",
              "q10  0.564461\n",
              "q11  0.441619\n",
              "q12  0.513720\n",
              "q13  0.422762"
            ],
            "text/html": [
              "\n",
              "  <div id=\"df-3e0ddf6f-b989-4efe-860e-f114bff68c82\">\n",
              "    <div class=\"colab-df-container\">\n",
              "      <div>\n",
              "<style scoped>\n",
              "    .dataframe tbody tr th:only-of-type {\n",
              "        vertical-align: middle;\n",
              "    }\n",
              "\n",
              "    .dataframe tbody tr th {\n",
              "        vertical-align: top;\n",
              "    }\n",
              "\n",
              "    .dataframe thead th {\n",
              "        text-align: right;\n",
              "    }\n",
              "</style>\n",
              "<table border=\"1\" class=\"dataframe\">\n",
              "  <thead>\n",
              "    <tr style=\"text-align: right;\">\n",
              "      <th></th>\n",
              "      <th>0</th>\n",
              "    </tr>\n",
              "  </thead>\n",
              "  <tbody>\n",
              "    <tr>\n",
              "      <th>q1</th>\n",
              "      <td>0.482343</td>\n",
              "    </tr>\n",
              "    <tr>\n",
              "      <th>q2</th>\n",
              "      <td>0.385128</td>\n",
              "    </tr>\n",
              "    <tr>\n",
              "      <th>q3</th>\n",
              "      <td>0.473197</td>\n",
              "    </tr>\n",
              "    <tr>\n",
              "      <th>q4</th>\n",
              "      <td>0.381459</td>\n",
              "    </tr>\n",
              "    <tr>\n",
              "      <th>q5</th>\n",
              "      <td>0.545437</td>\n",
              "    </tr>\n",
              "    <tr>\n",
              "      <th>q6</th>\n",
              "      <td>0.318808</td>\n",
              "    </tr>\n",
              "    <tr>\n",
              "      <th>q7</th>\n",
              "      <td>0.336432</td>\n",
              "    </tr>\n",
              "    <tr>\n",
              "      <th>q8</th>\n",
              "      <td>0.346663</td>\n",
              "    </tr>\n",
              "    <tr>\n",
              "      <th>q9</th>\n",
              "      <td>0.444203</td>\n",
              "    </tr>\n",
              "    <tr>\n",
              "      <th>q10</th>\n",
              "      <td>0.564461</td>\n",
              "    </tr>\n",
              "    <tr>\n",
              "      <th>q11</th>\n",
              "      <td>0.441619</td>\n",
              "    </tr>\n",
              "    <tr>\n",
              "      <th>q12</th>\n",
              "      <td>0.513720</td>\n",
              "    </tr>\n",
              "    <tr>\n",
              "      <th>q13</th>\n",
              "      <td>0.422762</td>\n",
              "    </tr>\n",
              "  </tbody>\n",
              "</table>\n",
              "</div>\n",
              "      <button class=\"colab-df-convert\" onclick=\"convertToInteractive('df-3e0ddf6f-b989-4efe-860e-f114bff68c82')\"\n",
              "              title=\"Convert this dataframe to an interactive table.\"\n",
              "              style=\"display:none;\">\n",
              "        \n",
              "  <svg xmlns=\"http://www.w3.org/2000/svg\" height=\"24px\"viewBox=\"0 0 24 24\"\n",
              "       width=\"24px\">\n",
              "    <path d=\"M0 0h24v24H0V0z\" fill=\"none\"/>\n",
              "    <path d=\"M18.56 5.44l.94 2.06.94-2.06 2.06-.94-2.06-.94-.94-2.06-.94 2.06-2.06.94zm-11 1L8.5 8.5l.94-2.06 2.06-.94-2.06-.94L8.5 2.5l-.94 2.06-2.06.94zm10 10l.94 2.06.94-2.06 2.06-.94-2.06-.94-.94-2.06-.94 2.06-2.06.94z\"/><path d=\"M17.41 7.96l-1.37-1.37c-.4-.4-.92-.59-1.43-.59-.52 0-1.04.2-1.43.59L10.3 9.45l-7.72 7.72c-.78.78-.78 2.05 0 2.83L4 21.41c.39.39.9.59 1.41.59.51 0 1.02-.2 1.41-.59l7.78-7.78 2.81-2.81c.8-.78.8-2.07 0-2.86zM5.41 20L4 18.59l7.72-7.72 1.47 1.35L5.41 20z\"/>\n",
              "  </svg>\n",
              "      </button>\n",
              "      \n",
              "  <style>\n",
              "    .colab-df-container {\n",
              "      display:flex;\n",
              "      flex-wrap:wrap;\n",
              "      gap: 12px;\n",
              "    }\n",
              "\n",
              "    .colab-df-convert {\n",
              "      background-color: #E8F0FE;\n",
              "      border: none;\n",
              "      border-radius: 50%;\n",
              "      cursor: pointer;\n",
              "      display: none;\n",
              "      fill: #1967D2;\n",
              "      height: 32px;\n",
              "      padding: 0 0 0 0;\n",
              "      width: 32px;\n",
              "    }\n",
              "\n",
              "    .colab-df-convert:hover {\n",
              "      background-color: #E2EBFA;\n",
              "      box-shadow: 0px 1px 2px rgba(60, 64, 67, 0.3), 0px 1px 3px 1px rgba(60, 64, 67, 0.15);\n",
              "      fill: #174EA6;\n",
              "    }\n",
              "\n",
              "    [theme=dark] .colab-df-convert {\n",
              "      background-color: #3B4455;\n",
              "      fill: #D2E3FC;\n",
              "    }\n",
              "\n",
              "    [theme=dark] .colab-df-convert:hover {\n",
              "      background-color: #434B5C;\n",
              "      box-shadow: 0px 1px 3px 1px rgba(0, 0, 0, 0.15);\n",
              "      filter: drop-shadow(0px 1px 2px rgba(0, 0, 0, 0.3));\n",
              "      fill: #FFFFFF;\n",
              "    }\n",
              "  </style>\n",
              "\n",
              "      <script>\n",
              "        const buttonEl =\n",
              "          document.querySelector('#df-3e0ddf6f-b989-4efe-860e-f114bff68c82 button.colab-df-convert');\n",
              "        buttonEl.style.display =\n",
              "          google.colab.kernel.accessAllowed ? 'block' : 'none';\n",
              "\n",
              "        async function convertToInteractive(key) {\n",
              "          const element = document.querySelector('#df-3e0ddf6f-b989-4efe-860e-f114bff68c82');\n",
              "          const dataTable =\n",
              "            await google.colab.kernel.invokeFunction('convertToInteractive',\n",
              "                                                     [key], {});\n",
              "          if (!dataTable) return;\n",
              "\n",
              "          const docLinkHtml = 'Like what you see? Visit the ' +\n",
              "            '<a target=\"_blank\" href=https://colab.research.google.com/notebooks/data_table.ipynb>data table notebook</a>'\n",
              "            + ' to learn more about interactive tables.';\n",
              "          element.innerHTML = '';\n",
              "          dataTable['output_type'] = 'display_data';\n",
              "          await google.colab.output.renderOutput(dataTable, element);\n",
              "          const docLink = document.createElement('div');\n",
              "          docLink.innerHTML = docLinkHtml;\n",
              "          element.appendChild(docLink);\n",
              "        }\n",
              "      </script>\n",
              "    </div>\n",
              "  </div>\n",
              "  "
            ]
          },
          "metadata": {},
          "execution_count": 27
        }
      ]
    },
    {
      "cell_type": "code",
      "source": [
        "\n",
        "df_variance = pd.DataFrame(fa.get_factor_variance(), index = ['Variance', 'Proportional variance', 'Cumulative variance'] , columns =[ 'Factor 0', 'Factor 1','Factor 2'] )\n",
        "df_variance"
      ],
      "metadata": {
        "colab": {
          "base_uri": "https://localhost:8080/",
          "height": 143
        },
        "id": "dzS8MJVJielK",
        "outputId": "bbc0c35d-a232-4f8b-ab02-681a05747449"
      },
      "execution_count": null,
      "outputs": [
        {
          "output_type": "execute_result",
          "data": {
            "text/plain": [
              "                       Factor 0  Factor 1  Factor 2\n",
              "Variance               2.929854  2.656593  1.757323\n",
              "Proportional variance  0.225373  0.204353  0.135179\n",
              "Cumulative variance    0.225373  0.429727  0.564905"
            ],
            "text/html": [
              "\n",
              "  <div id=\"df-f6ada008-2de1-434a-b48a-d4f3b6654e54\">\n",
              "    <div class=\"colab-df-container\">\n",
              "      <div>\n",
              "<style scoped>\n",
              "    .dataframe tbody tr th:only-of-type {\n",
              "        vertical-align: middle;\n",
              "    }\n",
              "\n",
              "    .dataframe tbody tr th {\n",
              "        vertical-align: top;\n",
              "    }\n",
              "\n",
              "    .dataframe thead th {\n",
              "        text-align: right;\n",
              "    }\n",
              "</style>\n",
              "<table border=\"1\" class=\"dataframe\">\n",
              "  <thead>\n",
              "    <tr style=\"text-align: right;\">\n",
              "      <th></th>\n",
              "      <th>Factor 0</th>\n",
              "      <th>Factor 1</th>\n",
              "      <th>Factor 2</th>\n",
              "    </tr>\n",
              "  </thead>\n",
              "  <tbody>\n",
              "    <tr>\n",
              "      <th>Variance</th>\n",
              "      <td>2.929854</td>\n",
              "      <td>2.656593</td>\n",
              "      <td>1.757323</td>\n",
              "    </tr>\n",
              "    <tr>\n",
              "      <th>Proportional variance</th>\n",
              "      <td>0.225373</td>\n",
              "      <td>0.204353</td>\n",
              "      <td>0.135179</td>\n",
              "    </tr>\n",
              "    <tr>\n",
              "      <th>Cumulative variance</th>\n",
              "      <td>0.225373</td>\n",
              "      <td>0.429727</td>\n",
              "      <td>0.564905</td>\n",
              "    </tr>\n",
              "  </tbody>\n",
              "</table>\n",
              "</div>\n",
              "      <button class=\"colab-df-convert\" onclick=\"convertToInteractive('df-f6ada008-2de1-434a-b48a-d4f3b6654e54')\"\n",
              "              title=\"Convert this dataframe to an interactive table.\"\n",
              "              style=\"display:none;\">\n",
              "        \n",
              "  <svg xmlns=\"http://www.w3.org/2000/svg\" height=\"24px\"viewBox=\"0 0 24 24\"\n",
              "       width=\"24px\">\n",
              "    <path d=\"M0 0h24v24H0V0z\" fill=\"none\"/>\n",
              "    <path d=\"M18.56 5.44l.94 2.06.94-2.06 2.06-.94-2.06-.94-.94-2.06-.94 2.06-2.06.94zm-11 1L8.5 8.5l.94-2.06 2.06-.94-2.06-.94L8.5 2.5l-.94 2.06-2.06.94zm10 10l.94 2.06.94-2.06 2.06-.94-2.06-.94-.94-2.06-.94 2.06-2.06.94z\"/><path d=\"M17.41 7.96l-1.37-1.37c-.4-.4-.92-.59-1.43-.59-.52 0-1.04.2-1.43.59L10.3 9.45l-7.72 7.72c-.78.78-.78 2.05 0 2.83L4 21.41c.39.39.9.59 1.41.59.51 0 1.02-.2 1.41-.59l7.78-7.78 2.81-2.81c.8-.78.8-2.07 0-2.86zM5.41 20L4 18.59l7.72-7.72 1.47 1.35L5.41 20z\"/>\n",
              "  </svg>\n",
              "      </button>\n",
              "      \n",
              "  <style>\n",
              "    .colab-df-container {\n",
              "      display:flex;\n",
              "      flex-wrap:wrap;\n",
              "      gap: 12px;\n",
              "    }\n",
              "\n",
              "    .colab-df-convert {\n",
              "      background-color: #E8F0FE;\n",
              "      border: none;\n",
              "      border-radius: 50%;\n",
              "      cursor: pointer;\n",
              "      display: none;\n",
              "      fill: #1967D2;\n",
              "      height: 32px;\n",
              "      padding: 0 0 0 0;\n",
              "      width: 32px;\n",
              "    }\n",
              "\n",
              "    .colab-df-convert:hover {\n",
              "      background-color: #E2EBFA;\n",
              "      box-shadow: 0px 1px 2px rgba(60, 64, 67, 0.3), 0px 1px 3px 1px rgba(60, 64, 67, 0.15);\n",
              "      fill: #174EA6;\n",
              "    }\n",
              "\n",
              "    [theme=dark] .colab-df-convert {\n",
              "      background-color: #3B4455;\n",
              "      fill: #D2E3FC;\n",
              "    }\n",
              "\n",
              "    [theme=dark] .colab-df-convert:hover {\n",
              "      background-color: #434B5C;\n",
              "      box-shadow: 0px 1px 3px 1px rgba(0, 0, 0, 0.15);\n",
              "      filter: drop-shadow(0px 1px 2px rgba(0, 0, 0, 0.3));\n",
              "      fill: #FFFFFF;\n",
              "    }\n",
              "  </style>\n",
              "\n",
              "      <script>\n",
              "        const buttonEl =\n",
              "          document.querySelector('#df-f6ada008-2de1-434a-b48a-d4f3b6654e54 button.colab-df-convert');\n",
              "        buttonEl.style.display =\n",
              "          google.colab.kernel.accessAllowed ? 'block' : 'none';\n",
              "\n",
              "        async function convertToInteractive(key) {\n",
              "          const element = document.querySelector('#df-f6ada008-2de1-434a-b48a-d4f3b6654e54');\n",
              "          const dataTable =\n",
              "            await google.colab.kernel.invokeFunction('convertToInteractive',\n",
              "                                                     [key], {});\n",
              "          if (!dataTable) return;\n",
              "\n",
              "          const docLinkHtml = 'Like what you see? Visit the ' +\n",
              "            '<a target=\"_blank\" href=https://colab.research.google.com/notebooks/data_table.ipynb>data table notebook</a>'\n",
              "            + ' to learn more about interactive tables.';\n",
              "          element.innerHTML = '';\n",
              "          dataTable['output_type'] = 'display_data';\n",
              "          await google.colab.output.renderOutput(dataTable, element);\n",
              "          const docLink = document.createElement('div');\n",
              "          docLink.innerHTML = docLinkHtml;\n",
              "          element.appendChild(docLink);\n",
              "        }\n",
              "      </script>\n",
              "    </div>\n",
              "  </div>\n",
              "  "
            ]
          },
          "metadata": {},
          "execution_count": 28
        }
      ]
    },
    {
      "cell_type": "markdown",
      "source": [
        "e) Compute the amount of variance in percentage explained by the number of retained factors."
      ],
      "metadata": {
        "id": "p-4g4v_6lj4N"
      }
    },
    {
      "cell_type": "code",
      "source": [
        "print(df_variance.loc['Cumulative variance']*100)"
      ],
      "metadata": {
        "colab": {
          "base_uri": "https://localhost:8080/"
        },
        "id": "EX9YWRAEjEnd",
        "outputId": "71e18863-86ad-4262-a7a7-6f2efba71fe0"
      },
      "execution_count": null,
      "outputs": [
        {
          "output_type": "stream",
          "name": "stdout",
          "text": [
            "Factor 0    22.537337\n",
            "Factor 1    42.972665\n",
            "Factor 2    56.490538\n",
            "Name: Cumulative variance, dtype: float64\n"
          ]
        }
      ]
    },
    {
      "cell_type": "markdown",
      "source": [
        "As the word might suggest, cumulative variance are the variances added up. Therefore the variance that is shown behind factor two represents represents all variances combined, meaning that the amount of variance in precentage explained by the number of retained factors is of 56.4%"
      ],
      "metadata": {
        "id": "WfuPiAuSjaDx"
      }
    }
  ]
}